{
 "cells": [
  {
   "cell_type": "code",
   "execution_count": 1,
   "metadata": {},
   "outputs": [],
   "source": [
    "from pyspark.sql import SparkSession\n",
    "from pyspark.sql.functions import col, current_date, datediff"
   ]
  },
  {
   "cell_type": "code",
   "execution_count": 2,
   "metadata": {},
   "outputs": [
    {
     "name": "stderr",
     "output_type": "stream",
     "text": [
      "/home/lplab/anaconda3/lib/python3.7/site-packages/pyspark/context.py:317: FutureWarning: Python 3.7 support is deprecated in Spark 3.4.\n",
      "  warnings.warn(\"Python 3.7 support is deprecated in Spark 3.4.\", FutureWarning)\n"
     ]
    }
   ],
   "source": [
    "spark = SparkSession.builder \\\n",
    "    .appName(\"Filter and Transform DataFrame\") \\\n",
    "    .getOrCreate()"
   ]
  },
  {
   "cell_type": "code",
   "execution_count": 3,
   "metadata": {},
   "outputs": [],
   "source": [
    "data = [\n",
    "    (1, \"John Doe\", \"Sales\", \"2020-05-01\"),\n",
    "    (2, \"Jane Smith\", \"Marketing\", \"2019-07-15\"),\n",
    "    (3, \"Emily Davis\", \"Sales\", \"2018-10-25\"),\n",
    "    (4, \"Michael Brown\", \"HR\", \"2021-01-10\")\n",
    "]"
   ]
  },
  {
   "cell_type": "code",
   "execution_count": 4,
   "metadata": {},
   "outputs": [],
   "source": [
    "columns = [\"id\", \"name\", \"department\", \"hire_date\"]"
   ]
  },
  {
   "cell_type": "code",
   "execution_count": 5,
   "metadata": {},
   "outputs": [],
   "source": [
    "df = spark.createDataFrame(data, columns)"
   ]
  },
  {
   "cell_type": "code",
   "execution_count": 6,
   "metadata": {},
   "outputs": [
    {
     "name": "stdout",
     "output_type": "stream",
     "text": [
      "Initial DataFrame:\n",
      "+---+-------------+----------+----------+\n",
      "| id|         name|department| hire_date|\n",
      "+---+-------------+----------+----------+\n",
      "|  1|     John Doe|     Sales|2020-05-01|\n",
      "|  2|   Jane Smith| Marketing|2019-07-15|\n",
      "|  3|  Emily Davis|     Sales|2018-10-25|\n",
      "|  4|Michael Brown|        HR|2021-01-10|\n",
      "+---+-------------+----------+----------+\n",
      "\n"
     ]
    }
   ],
   "source": [
    "print(\"Initial DataFrame:\")\n",
    "df.show()"
   ]
  },
  {
   "cell_type": "code",
   "execution_count": 7,
   "metadata": {},
   "outputs": [],
   "source": [
    "filtered_df = df.filter(col(\"department\") == \"Sales\")"
   ]
  },
  {
   "cell_type": "code",
   "execution_count": 8,
   "metadata": {},
   "outputs": [],
   "source": [
    "filtered_df = filtered_df.withColumn(\"hire_date\", col(\"hire_date\").cast(\"date\"))"
   ]
  },
  {
   "cell_type": "code",
   "execution_count": 9,
   "metadata": {},
   "outputs": [],
   "source": [
    "filtered_df = filtered_df.withColumn(\"years_of_service\", \n",
    "                                     datediff(current_date(), col(\"hire_date\")) / 3)"
   ]
  },
  {
   "cell_type": "code",
   "execution_count": 10,
   "metadata": {},
   "outputs": [
    {
     "name": "stdout",
     "output_type": "stream",
     "text": [
      "Transformed DataFrame:\n",
      "+---+-----------+----------+----------+-----------------+\n",
      "| id|       name|department| hire_date| years_of_service|\n",
      "+---+-----------+----------+----------+-----------------+\n",
      "|  1|   John Doe|     Sales|2020-05-01|520.6666666666666|\n",
      "|  3|Emily Davis|     Sales|2018-10-25|705.3333333333334|\n",
      "+---+-----------+----------+----------+-----------------+\n",
      "\n"
     ]
    }
   ],
   "source": [
    "print(\"Transformed DataFrame:\")\n",
    "filtered_df.show()"
   ]
  },
  {
   "cell_type": "code",
   "execution_count": 11,
   "metadata": {},
   "outputs": [
    {
     "name": "stdout",
     "output_type": "stream",
     "text": [
      "Number of rows in DataFrame: 4\n",
      "Contents of the DataFrame:\n",
      "+---+-------------+----------+----------+\n",
      "| id|         name|department| hire_date|\n",
      "+---+-------------+----------+----------+\n",
      "|  1|     John Doe|     Sales|2020-05-01|\n",
      "|  2|   Jane Smith| Marketing|2019-07-15|\n",
      "|  3|  Emily Davis|     Sales|2018-10-25|\n",
      "|  4|Michael Brown|        HR|2021-01-10|\n",
      "+---+-------------+----------+----------+\n",
      "\n"
     ]
    }
   ],
   "source": [
    "row_count = df.count()\n",
    "print(f\"Number of rows in DataFrame: {row_count}\")\n",
    "\n",
    "# 2. Show the contents of the DataFrame\n",
    "print(\"Contents of the DataFrame:\")\n",
    "df.show()"
   ]
  },
  {
   "cell_type": "code",
   "execution_count": 12,
   "metadata": {},
   "outputs": [],
   "source": [
    "spark.stop()"
   ]
  },
  {
   "cell_type": "code",
   "execution_count": null,
   "metadata": {},
   "outputs": [],
   "source": []
  }
 ],
 "metadata": {
  "kernelspec": {
   "display_name": "Python 3 (ipykernel)",
   "language": "python",
   "name": "python3"
  },
  "language_info": {
   "codemirror_mode": {
    "name": "ipython",
    "version": 3
   },
   "file_extension": ".py",
   "mimetype": "text/x-python",
   "name": "python",
   "nbconvert_exporter": "python",
   "pygments_lexer": "ipython3",
   "version": "3.7.0"
  }
 },
 "nbformat": 4,
 "nbformat_minor": 2
}
