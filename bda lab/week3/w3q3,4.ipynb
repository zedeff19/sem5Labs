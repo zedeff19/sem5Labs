{
 "cells": [
  {
   "cell_type": "code",
   "execution_count": 1,
   "metadata": {},
   "outputs": [
    {
     "name": "stderr",
     "output_type": "stream",
     "text": [
      "/home/lplab/anaconda3/lib/python3.7/site-packages/pyspark/context.py:317: FutureWarning: Python 3.7 support is deprecated in Spark 3.4.\n",
      "  warnings.warn(\"Python 3.7 support is deprecated in Spark 3.4.\", FutureWarning)\n"
     ]
    },
    {
     "name": "stdout",
     "output_type": "stream",
     "text": [
      "Initial DataFrame:\n",
      "+-------------+----------+------+\n",
      "|         name|department|salary|\n",
      "+-------------+----------+------+\n",
      "|     John Doe|     Sales|  1000|\n",
      "|   Jane Smith| Marketing|  1500|\n",
      "|  Emily Davis|     Sales|  1200|\n",
      "|Michael Brown|        HR|  1100|\n",
      "|  Linda Green|     Sales|   900|\n",
      "+-------------+----------+------+\n",
      "\n",
      "Total Salary: 5700\n",
      "Average Salary: 1140.0\n",
      "Total and Average Salary by Department:\n",
      "+----------+------------+------------------+\n",
      "|department|total_salary|    average_salary|\n",
      "+----------+------------+------------------+\n",
      "|     Sales|        3100|1033.3333333333333|\n",
      "| Marketing|        1500|            1500.0|\n",
      "|        HR|        1100|            1100.0|\n",
      "+----------+------------+------------------+\n",
      "\n"
     ]
    }
   ],
   "source": [
    "from pyspark.sql import SparkSession\n",
    "from pyspark.sql.functions import sum as _sum, avg\n",
    "\n",
    "# Initialize SparkSession\n",
    "spark = SparkSession.builder \\\n",
    "    .appName(\"Basic Aggregations Example\") \\\n",
    "    .getOrCreate()\n",
    "\n",
    "# Sample data\n",
    "data = [\n",
    "    (\"John Doe\", \"Sales\", 1000),\n",
    "    (\"Jane Smith\", \"Marketing\", 1500),\n",
    "    (\"Emily Davis\", \"Sales\", 1200),\n",
    "    (\"Michael Brown\", \"HR\", 1100),\n",
    "    (\"Linda Green\", \"Sales\", 900)\n",
    "]\n",
    "\n",
    "# Define schema\n",
    "columns = [\"name\", \"department\", \"salary\"]\n",
    "\n",
    "# Create DataFrame\n",
    "df = spark.createDataFrame(data, columns)\n",
    "\n",
    "# Show initial DataFrame\n",
    "print(\"Initial DataFrame:\")\n",
    "df.show()\n",
    "\n",
    "# Perform basic aggregations\n",
    "# 1. Calculate total salary\n",
    "total_salary = df.agg(_sum(\"salary\").alias(\"total_salary\")).collect()[0][\"total_salary\"]\n",
    "print(f\"Total Salary: {total_salary}\")\n",
    "\n",
    "# 2. Calculate average salary\n",
    "average_salary = df.agg(avg(\"salary\").alias(\"average_salary\")).collect()[0][\"average_salary\"]\n",
    "print(f\"Average Salary: {average_salary}\")\n",
    "\n",
    "# 3. Calculate total and average salary by department\n",
    "print(\"Total and Average Salary by Department:\")\n",
    "department_aggregations = df.groupBy(\"department\") \\\n",
    "    .agg(\n",
    "        _sum(\"salary\").alias(\"total_salary\"),\n",
    "        avg(\"salary\").alias(\"average_salary\")\n",
    "    )\n",
    "\n",
    "department_aggregations.show()\n",
    "\n",
    "# Stop the SparkSession\n",
    "\n"
   ]
  },
  {
   "cell_type": "code",
   "execution_count": 4,
   "metadata": {},
   "outputs": [
    {
     "name": "stdout",
     "output_type": "stream",
     "text": [
      "DataFrame to be written to CSV:\n",
      "+---+-------------+----------+------+\n",
      "| id|         name|department|salary|\n",
      "+---+-------------+----------+------+\n",
      "|  1|     John Doe|     Sales|  1000|\n",
      "|  2|   Jane Smith| Marketing|  1500|\n",
      "|  3|  Emily Davis|     Sales|  1200|\n",
      "|  4|Michael Brown|        HR|  1100|\n",
      "+---+-------------+----------+------+\n",
      "\n",
      "DataFrame has been written to output/employees\n"
     ]
    }
   ],
   "source": [
    "from pyspark.sql import SparkSession\n",
    "\n",
    "# Initialize SparkSession\n",
    "spark = SparkSession.builder \\\n",
    "    .appName(\"Write DataFrame to CSV Example\") \\\n",
    "    .getOrCreate()\n",
    "\n",
    "# Sample data\n",
    "data = [\n",
    "    (1, \"John Doe\", \"Sales\", 1000),\n",
    "    (2, \"Jane Smith\", \"Marketing\", 1500),\n",
    "    (3, \"Emily Davis\", \"Sales\", 1200),\n",
    "    (4, \"Michael Brown\", \"HR\", 1100)\n",
    "]\n",
    "\n",
    "# Define schema\n",
    "columns = [\"id\", \"name\", \"department\", \"salary\"]\n",
    "\n",
    "# Create DataFrame\n",
    "df = spark.createDataFrame(data, columns)\n",
    "\n",
    "# Show the DataFrame\n",
    "print(\"DataFrame to be written to CSV:\")\n",
    "df.show()\n",
    "\n",
    "# Define the path where the CSV file will be saved\n",
    "csv_path = \"output/employees\"\n",
    "\n",
    "# Write DataFrame to CSV\n",
    "df.write \\\n",
    "    .mode(\"overwrite\") \\\n",
    "    .option(\"header\", \"true\") \\\n",
    "    .csv(csv_path)\n",
    "\n",
    "print(f\"DataFrame has been written to {csv_path}\")\n",
    "\n",
    "# Stop the SparkSession\n",
    "spark.stop()\n"
   ]
  },
  {
   "cell_type": "code",
   "execution_count": 5,
   "metadata": {},
   "outputs": [],
   "source": [
    "spark.stop()"
   ]
  },
  {
   "cell_type": "code",
   "execution_count": null,
   "metadata": {},
   "outputs": [],
   "source": []
  }
 ],
 "metadata": {
  "kernelspec": {
   "display_name": "Python 3 (ipykernel)",
   "language": "python",
   "name": "python3"
  },
  "language_info": {
   "codemirror_mode": {
    "name": "ipython",
    "version": 3
   },
   "file_extension": ".py",
   "mimetype": "text/x-python",
   "name": "python",
   "nbconvert_exporter": "python",
   "pygments_lexer": "ipython3",
   "version": "3.7.0"
  }
 },
 "nbformat": 4,
 "nbformat_minor": 2
}
