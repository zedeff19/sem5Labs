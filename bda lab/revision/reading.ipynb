{
 "cells": [
  {
   "cell_type": "code",
   "execution_count": 18,
   "metadata": {},
   "outputs": [
    {
     "name": "stderr",
     "output_type": "stream",
     "text": [
      "/home/lplab/anaconda3/lib/python3.7/site-packages/pyspark/context.py:317: FutureWarning: Python 3.7 support is deprecated in Spark 3.4.\n",
      "  warnings.warn(\"Python 3.7 support is deprecated in Spark 3.4.\", FutureWarning)\n"
     ]
    },
    {
     "name": "stdout",
     "output_type": "stream",
     "text": [
      "Using textFile():\n",
      "Number of lines: 2\n",
      "First 5 lines:\n",
      "['this is another file lmao. im still learning.', 'hehe.']\n",
      "number of partitions:  2\n",
      "\n",
      "Using wholeTextFiles():\n",
      "Number of files: 3\n",
      "First file:\n",
      "Filename: file:/home/lplab/Documents/220962432_bda lab/revision basics/f1.txt\n",
      "Content preview (first 100 characters): this is a file hehe!\n",
      "\n",
      "number of partitions:  2\n",
      "take 2 on wholeTextFiles:  [('file:/home/lplab/Documents/220962432_bda lab/revision basics/f1.txt', 'this is a file hehe!\\n')]\n"
     ]
    }
   ],
   "source": [
    "from pyspark.sql import SparkSession\n",
    "\n",
    "# Create a SparkSession\n",
    "spark = SparkSession.builder.appName(\"TextFileVsWholeTextFiles\").getOrCreate()\n",
    "\n",
    "# Get the SparkContext from the SparkSession\n",
    "sc = spark.sparkContext\n",
    "\n",
    "# Example paths (adjust these paths to your local file paths)\n",
    "text_file_path = \"file:////home/lplab/Documents/220962432_bda lab/revision basics/f2.txt\"  # Local file path for a single text file\n",
    "text_files_directory_path = \"file:////home/lplab/Documents/220962432_bda lab/revision basics/\"  # Local directory path for multiple text files\n",
    "#use /// for local reading, otherwise reads hdfs\n",
    "\n",
    "# Using textFile()\n",
    "text_rdd = sc.textFile(text_file_path)\n",
    "print(\"Using textFile():\")\n",
    "print(\"Number of lines:\", text_rdd.count())\n",
    "print(\"First 5 lines:\")\n",
    "print(text_rdd.take(3))\n",
    "print('number of partitions: ', text_rdd.getNumPartitions())\n",
    "\n",
    "# Using wholeTextFiles()\n",
    "whole_text_files_rdd = sc.wholeTextFiles(text_files_directory_path)\n",
    "print(\"\\nUsing wholeTextFiles():\")\n",
    "print(\"Number of files:\", whole_text_files_rdd.count())\n",
    "print(\"First file:\")\n",
    "file_name, file_content = whole_text_files_rdd.first()\n",
    "print(\"Filename:\", file_name)\n",
    "print(\"Content preview (first 100 characters):\", file_content[:100])\n",
    "print('number of partitions: ', whole_text_files_rdd.getNumPartitions())\n",
    "print(\"take 2 on wholeTextFiles: \", whole_text_files_rdd.take(1))\n",
    "# Stop the SparkSession\n",
    "spark.stop()\n"
   ]
  },
  {
   "cell_type": "markdown",
   "metadata": {},
   "source": [
    "#### creating df from json file"
   ]
  },
  {
   "cell_type": "code",
   "execution_count": 27,
   "metadata": {},
   "outputs": [],
   "source": [
    "from pyspark.sql import SparkSession\n",
    "spark = SparkSession.builder.appName(\"TextFileVsWholeTextFiles\").getOrCreate()\n",
    "sc = spark.sparkContext\n",
    "\n",
    "json_path = 'file:////home/lplab/Documents/220962432_bda lab/revision basics/movies 1.json'\n",
    "json_df = spark.read.json(json_path)\n",
    "\n",
    "json_df.head\n",
    "\n",
    "\n",
    "spark.stop()\n"
   ]
  },
  {
   "cell_type": "markdown",
   "metadata": {},
   "source": [
    "#### creating df programtically"
   ]
  },
  {
   "cell_type": "code",
   "execution_count": 38,
   "metadata": {},
   "outputs": [
    {
     "name": "stderr",
     "output_type": "stream",
     "text": [
      "/home/lplab/anaconda3/lib/python3.7/site-packages/pyspark/context.py:317: FutureWarning: Python 3.7 support is deprecated in Spark 3.4.\n",
      "  warnings.warn(\"Python 3.7 support is deprecated in Spark 3.4.\", FutureWarning)\n"
     ]
    },
    {
     "name": "stdout",
     "output_type": "stream",
     "text": [
      "ParallelCollectionRDD[0] at readRDDFromFile at PythonRDD.scala:287\n",
      "trying count:  9\n",
      "trying collect:  [0, 1, 2, 3, 4, 5, 6, 7, 8]\n",
      "Partition 0: [0, 1, 2, 3]\n",
      "Partition 1: [4, 5, 6, 7, 8]\n",
      "Mapped RDD: [0, 2, 4, 6, 8, 10, 12, 14, 16]\n",
      "stopping\n"
     ]
    }
   ],
   "source": [
    "from pyspark.sql import SparkSession\n",
    "spark = SparkSession.builder.appName('parallelize').getOrCreate()\n",
    "sc = spark.sparkContext\n",
    "\n",
    "parallelRDD = sc.parallelize([0,1,2,3,4,5,6,7,8], numSlices = 2)\n",
    "print(parallelRDD)\n",
    "print(\"trying count: \",parallelRDD.count()) #number of elements\n",
    "\n",
    "print(\"trying collect: \",parallelRDD.collect()) \n",
    "\n",
    "\n",
    "# Collect the data from each partition\n",
    "partitions = parallelRDD.glom().collect()\n",
    "\n",
    "\n",
    "#unnecessary shit\n",
    "# Print the data in each partition\n",
    "for i, partition in enumerate(partitions):\n",
    "    print(f\"Partition {i}: {partition}\")\n",
    "\n",
    "\n",
    "# Perform a map operation\n",
    "mappedRDD = parallelRDD.map(lambda x: x * 2)\n",
    "\n",
    "# Collect and print the results\n",
    "result = mappedRDD.collect()\n",
    "print(\"Mapped RDD:\", result)\n",
    "\n",
    "\n",
    "print('stopping')\n",
    "spark.stop()"
   ]
  },
  {
   "cell_type": "markdown",
   "metadata": {},
   "source": [
    "#### sc.range(start, end=None, step=1, numSlices=None)"
   ]
  },
  {
   "cell_type": "code",
   "execution_count": 46,
   "metadata": {},
   "outputs": [
    {
     "name": "stderr",
     "output_type": "stream",
     "text": [
      "/home/lplab/anaconda3/lib/python3.7/site-packages/pyspark/context.py:317: FutureWarning: Python 3.7 support is deprecated in Spark 3.4.\n",
      "  warnings.warn(\"Python 3.7 support is deprecated in Spark 3.4.\", FutureWarning)\n"
     ]
    },
    {
     "name": "stdout",
     "output_type": "stream",
     "text": [
      "PythonRDD[1] at RDD at PythonRDD.scala:53\n",
      "[10, 11, 12, 13, 14, 15, 16, 17, 18, 19]\n",
      "min:  10\n",
      "max:  19\n",
      "take(5):  [10, 11, 12, 13, 14]\n"
     ]
    }
   ],
   "source": [
    "from pyspark.sql import SparkSession\n",
    "spark = SparkSession.builder.appName(\"range\").getOrCreate()\n",
    "sc = spark.sparkContext\n",
    "\n",
    "\n",
    "range_rdd = sc.range(10,20,1)\n",
    "print(range_rdd)\n",
    "print(range_rdd.collect())\n",
    "print('min: ',range_rdd.min())\n",
    "print('max: ',range_rdd.max())\n",
    "print('take(5): ',range_rdd.take(5))\n",
    "\n",
    "spark.stop()"
   ]
  },
  {
   "cell_type": "code",
   "execution_count": null,
   "metadata": {},
   "outputs": [],
   "source": []
  }
 ],
 "metadata": {
  "kernelspec": {
   "display_name": "Python 3 (ipykernel)",
   "language": "python",
   "name": "python3"
  },
  "language_info": {
   "codemirror_mode": {
    "name": "ipython",
    "version": 3
   },
   "file_extension": ".py",
   "mimetype": "text/x-python",
   "name": "python",
   "nbconvert_exporter": "python",
   "pygments_lexer": "ipython3",
   "version": "3.7.0"
  }
 },
 "nbformat": 4,
 "nbformat_minor": 2
}
