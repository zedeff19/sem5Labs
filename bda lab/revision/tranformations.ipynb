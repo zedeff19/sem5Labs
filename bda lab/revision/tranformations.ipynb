{
 "cells": [
  {
   "cell_type": "code",
   "execution_count": 4,
   "metadata": {},
   "outputs": [
    {
     "name": "stdout",
     "output_type": "stream",
     "text": [
      "[1, 3, 5]\n"
     ]
    }
   ],
   "source": [
    "from pyspark.sql import SparkSession\n",
    "spark = SparkSession.builder.appName('transF').getOrCreate()\n",
    "sc = spark.sparkContext\n",
    "\n",
    "orig_rdd = sc.parallelize([0,1,2,3,4,5])\n",
    "\n",
    "new_rdd = orig_rdd.filter(lambda x: x%2)\n",
    "print(new_rdd.collect())\n",
    "\n",
    "spark.stop()"
   ]
  },
  {
   "cell_type": "markdown",
   "metadata": {},
   "source": [
    "The filter transformation evaluates a Boolean expression, usually\n",
    "expressed as an anonymous function, against each element in the\n",
    "dataset. The Boolean value returned determines whether the record is\n",
    "included in the resultant output RDD."
   ]
  },
  {
   "cell_type": "code",
   "execution_count": 5,
   "metadata": {},
   "outputs": [
    {
     "name": "stderr",
     "output_type": "stream",
     "text": [
      "/home/lplab/anaconda3/lib/python3.7/site-packages/pyspark/context.py:317: FutureWarning: Python 3.7 support is deprecated in Spark 3.4.\n",
      "  warnings.warn(\"Python 3.7 support is deprecated in Spark 3.4.\", FutureWarning)\n"
     ]
    },
    {
     "name": "stdout",
     "output_type": "stream",
     "text": [
      "[0, 1, 4, 9, 16, 25]\n",
      "[0, 1, 4, 9, 16, 25]\n"
     ]
    }
   ],
   "source": [
    "from pyspark.sql import SparkSession\n",
    "spark = SparkSession.builder.appName('transF').getOrCreate()\n",
    "sc = spark.sparkContext\n",
    "\n",
    "orig_rdd = sc.parallelize([0,1,2,3,4,5])\n",
    "\n",
    "filtered_rdd = orig_rdd.filter(lambda x: x%2)\n",
    "\n",
    "\n",
    "mapped_rdd = orig_rdd.map(lambda x: x**2)\n",
    "print(mapped_rdd.collect())\n",
    "\n",
    "filtered_rdd = orig_rdd.map(lambda x: x**2)\n",
    "print(filtered_rdd.collect())\n",
    "\n",
    "spark.stop()"
   ]
  },
  {
   "cell_type": "code",
   "execution_count": null,
   "metadata": {},
   "outputs": [],
   "source": []
  }
 ],
 "metadata": {
  "kernelspec": {
   "display_name": "Python 3 (ipykernel)",
   "language": "python",
   "name": "python3"
  },
  "language_info": {
   "codemirror_mode": {
    "name": "ipython",
    "version": 3
   },
   "file_extension": ".py",
   "mimetype": "text/x-python",
   "name": "python",
   "nbconvert_exporter": "python",
   "pygments_lexer": "ipython3",
   "version": "3.7.0"
  }
 },
 "nbformat": 4,
 "nbformat_minor": 2
}
