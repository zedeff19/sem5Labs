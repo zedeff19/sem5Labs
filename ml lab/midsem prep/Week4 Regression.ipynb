{
 "cells": [
  {
   "cell_type": "code",
   "execution_count": 3,
   "id": "21a55f63",
   "metadata": {},
   "outputs": [],
   "source": [
    "import pandas as pd\n",
    "import numpy as np"
   ]
  },
  {
   "cell_type": "code",
   "execution_count": 4,
   "id": "f12df635",
   "metadata": {},
   "outputs": [
    {
     "data": {
      "text/plain": [
       "<bound method NDFrame.head of     temp  Yield\n",
       "0     50    3.3\n",
       "1     50    2.8\n",
       "2     50    2.9\n",
       "3     70    2.3\n",
       "4     70    2.6\n",
       "5     70    2.1\n",
       "6     80    2.5\n",
       "7     80    2.9\n",
       "8     80    2.4\n",
       "9     90    3.0\n",
       "10    90    3.1\n",
       "11    90    2.8\n",
       "12   100    3.3\n",
       "13   100    3.5\n",
       "14   100    3.0>"
      ]
     },
     "execution_count": 4,
     "metadata": {},
     "output_type": "execute_result"
    }
   ],
   "source": [
    "data = {\n",
    "    \"temp\" : [50,50,50,70,70,70,80,80,80,90,90,90,100,100,100],\n",
    "    \"Yield\" : [3.3,2.8,2.9,2.3,2.6,2.1,2.5,2.9,2.4,3.0,3.1,2.8,3.3,3.5,3.0]\n",
    "}\n",
    "\n",
    "# print(dat)\n",
    "\n",
    "df = pd.DataFrame(data)\n",
    "df.head\n",
    "\n",
    "\n"
   ]
  },
  {
   "cell_type": "code",
   "execution_count": 5,
   "id": "bf085666",
   "metadata": {},
   "outputs": [],
   "source": [
    "df.to_csv('data.csv')"
   ]
  },
  {
   "cell_type": "code",
   "execution_count": 6,
   "id": "1162755a",
   "metadata": {},
   "outputs": [
    {
     "data": {
      "text/plain": [
       "15"
      ]
     },
     "execution_count": 6,
     "metadata": {},
     "output_type": "execute_result"
    }
   ],
   "source": [
    "df.shape[0]"
   ]
  },
  {
   "cell_type": "code",
   "execution_count": 7,
   "id": "f33c1fb3",
   "metadata": {},
   "outputs": [],
   "source": [
    "x11 = df.shape[0] #n\n",
    "x12 = df[\"temp\"].sum() #sum(x)\n",
    "x13 = (df[\"temp\"] ** 2).sum() #sum(x^2)\n",
    "\n",
    "x21 = x12 #sum(x)\n",
    "x22 = x13 #sum(x^2)\n",
    "x23 = (df[\"temp\"] ** 3).sum() #sum(x^3)\n",
    "\n",
    "x31 = x22 #sum(x^2)\n",
    "x32 = x23 #sum(x^3)\n",
    "x33 = (df[\"temp\"] ** 4).sum() #sum(x^4)\n"
   ]
  },
  {
   "cell_type": "code",
   "execution_count": 8,
   "id": "0c07dc22",
   "metadata": {},
   "outputs": [],
   "source": [
    "A = np.array([\n",
    "    [x11, x12, x13],\n",
    "    [x21, x22, x23],\n",
    "    [x31, x32, x33]\n",
    "])\n"
   ]
  },
  {
   "cell_type": "code",
   "execution_count": 9,
   "id": "32b987bd",
   "metadata": {},
   "outputs": [
    {
     "data": {
      "text/plain": [
       "array([[       15,      1170,     95700],\n",
       "       [     1170,     95700,   8127000],\n",
       "       [    95700,   8127000, 710490000]], dtype=int64)"
      ]
     },
     "execution_count": 9,
     "metadata": {},
     "output_type": "execute_result"
    }
   ],
   "source": [
    "A\n"
   ]
  },
  {
   "cell_type": "code",
   "execution_count": 10,
   "id": "299affb2",
   "metadata": {},
   "outputs": [],
   "source": [
    "# X = np.array([1,1,1])\n",
    "# X"
   ]
  },
  {
   "cell_type": "code",
   "execution_count": 11,
   "id": "76b08019",
   "metadata": {},
   "outputs": [],
   "source": [
    "y1 = df[\"Yield\"].sum()\n",
    "y2 = (df[\"temp\"] * df[\"Yield\"]).sum()\n",
    "y3 = ((df[\"temp\"] ** 2) * df[\"Yield\"]).sum()\n"
   ]
  },
  {
   "cell_type": "code",
   "execution_count": 12,
   "id": "ae95cec6",
   "metadata": {},
   "outputs": [
    {
     "data": {
      "text/plain": [
       "array([4.2500e+01, 3.3450e+03, 2.7681e+05])"
      ]
     },
     "execution_count": 12,
     "metadata": {},
     "output_type": "execute_result"
    }
   ],
   "source": [
    "B = np.array([y1,y2,y3])\n",
    "B"
   ]
  },
  {
   "cell_type": "markdown",
   "id": "9506bc9e",
   "metadata": {},
   "source": [
    "##### using Ax = B\n",
    "##### => x = A^-1 * B"
   ]
  },
  {
   "cell_type": "code",
   "execution_count": 13,
   "id": "553edd15",
   "metadata": {},
   "outputs": [],
   "source": [
    "X = np.linalg.inv(A).dot(B)"
   ]
  },
  {
   "cell_type": "code",
   "execution_count": 14,
   "id": "70950502",
   "metadata": {},
   "outputs": [
    {
     "data": {
      "text/plain": [
       "array([ 7.96048110e+00, -1.53711340e-01,  1.07560137e-03])"
      ]
     },
     "execution_count": 14,
     "metadata": {},
     "output_type": "execute_result"
    }
   ],
   "source": [
    "c,b,a = X #c,b,a = a0,a1,a2 where y = a0 + a1x + a2x^2\n",
    "X # polynomial regression output\n",
    "\n"
   ]
  },
  {
   "cell_type": "code",
   "execution_count": 15,
   "id": "b762b15c",
   "metadata": {},
   "outputs": [
    {
     "data": {
      "image/png": "[encoded data removed]",
      "text/plain": [
       "<Figure size 640x480 with 1 Axes>"
      ]
     },
     "metadata": {},
     "output_type": "display_data"
    }
   ],
   "source": [
    "import matplotlib.pyplot as plt\n",
    "\n",
    "actual = df[\"Yield\"]\n",
    "plt.plot(df[\"temp\"],actual, 'ro')\n",
    "#plot a line with equation y = c + bx + ax^2\n",
    "y = c + b*df[\"temp\"] + a*(df[\"temp\"] ** 2)\n",
    "plt.plot(df[\"temp\"],y)\n",
    "quad_ans = []\n",
    "for x in df[\"temp\"]:\n",
    "    y = c*x + b*x + a*x\n",
    "    quad_ans.append(y)\n",
    "# plt.plot(quad_ans)\n",
    "# plt.legend()\n",
    "plt.show()\n"
   ]
  },
  {
   "cell_type": "code",
   "execution_count": 16,
   "id": "1705eba2",
   "metadata": {},
   "outputs": [],
   "source": [
    "#getting predicted values in a list\n",
    "\n",
    "quad_ans = []\n",
    "for x in df[\"temp\"]:\n",
    "    op = c + b*x + a*x**2\n",
    "    quad_ans.append(op)\n",
    "\n",
    "quad_ans  = pd.Series(quad_ans)\n",
    "\n"
   ]
  },
  {
   "cell_type": "code",
   "execution_count": 17,
   "id": "da02685b",
   "metadata": {},
   "outputs": [
    {
     "data": {
      "text/plain": [
       "0     0.336082\n",
       "1    -0.163918\n",
       "2    -0.063918\n",
       "3    -0.171134\n",
       "4     0.128866\n",
       "5    -0.371134\n",
       "6    -0.047423\n",
       "7     0.352577\n",
       "8    -0.147423\n",
       "9     0.161168\n",
       "10    0.261168\n",
       "11   -0.038832\n",
       "12   -0.045361\n",
       "13    0.154639\n",
       "14   -0.345361\n",
       "dtype: float64"
      ]
     },
     "execution_count": 17,
     "metadata": {},
     "output_type": "execute_result"
    }
   ],
   "source": [
    "#calculating error\n",
    "error = df[\"Yield\"] - quad_ans\n",
    "error"
   ]
  },
  {
   "cell_type": "code",
   "execution_count": 18,
   "id": "f39ceca0",
   "metadata": {},
   "outputs": [
    {
     "data": {
      "text/plain": [
       "0.0477846506300115"
      ]
     },
     "execution_count": 18,
     "metadata": {},
     "output_type": "execute_result"
    }
   ],
   "source": [
    "#calculating mean squared error\n",
    "sum_square_error =0\n",
    "for i in range(len(error)):\n",
    "    sum_square_error += error[i] ** 2\n",
    "mean_square_error = sum_square_error / len(error)\n",
    "mean_square_error"
   ]
  },
  {
   "cell_type": "code",
   "execution_count": 19,
   "id": "793df0db",
   "metadata": {},
   "outputs": [
    {
     "data": {
      "text/plain": [
       "0.21859700508015087"
      ]
     },
     "execution_count": 19,
     "metadata": {},
     "output_type": "execute_result"
    }
   ],
   "source": [
    "#calculating rmse\n",
    "rmse = np.sqrt(mean_square_error)\n",
    "rmse"
   ]
  },
  {
   "cell_type": "markdown",
   "id": "66db85eb",
   "metadata": {},
   "source": [
    "#### Question 2"
   ]
  },
  {
   "cell_type": "code",
   "execution_count": 23,
   "id": "74360a05",
   "metadata": {},
   "outputs": [
    {
     "name": "stdout",
     "output_type": "stream",
     "text": [
      "    Infarc  Area  Group  X2  X3\n",
      "0    0.119  0.34      3   0   0\n",
      "1    0.190  0.64      3   0   0\n",
      "2    0.395  0.76      3   0   0\n",
      "3    0.469  0.83      3   0   0\n",
      "4    0.130  0.73      3   0   0\n",
      "5    0.311  0.82      3   0   0\n",
      "6    0.418  0.95      3   0   0\n",
      "7    0.480  1.06      3   0   0\n",
      "8    0.687  1.20      3   0   0\n",
      "9    0.847  1.47      3   0   0\n",
      "10   0.062  0.44      1   1   0\n",
      "11   0.122  0.77      1   1   0\n",
      "12   0.033  0.90      1   1   0\n",
      "13   0.102  1.07      1   1   0\n",
      "14   0.206  1.01      1   1   0\n",
      "15   0.249  1.03      1   1   0\n",
      "16   0.220  1.16      1   1   0\n",
      "17   0.299  1.21      1   1   0\n",
      "18   0.350  1.20      1   1   0\n",
      "19   0.350  1.22      1   1   0\n",
      "20   0.588  0.99      2   0   1\n",
      "21   0.379  0.77      2   0   1\n",
      "22   0.149  1.05      2   0   1\n",
      "23   0.316  1.06      2   0   1\n",
      "24   0.390  1.02      2   0   1\n",
      "25   0.429  0.99      2   0   1\n",
      "26   0.477  0.97      2   0   1\n",
      "27   0.439  1.12      2   0   1\n",
      "28   0.446  1.23      2   0   1\n",
      "29   0.538  1.19      2   0   1\n",
      "30   0.625  1.22      2   0   1\n",
      "31   0.974  1.40      2   0   1\n"
     ]
    }
   ],
   "source": [
    "import pandas as pd\n",
    "\n",
    "# Data\n",
    "data = {\n",
    "    \"Infarc\": [0.119, 0.19, 0.395, 0.469, 0.13, 0.311, 0.418, 0.48, 0.687, 0.847,\n",
    "               0.062, 0.122, 0.033, 0.102, 0.206, 0.249, 0.22, 0.299, 0.35, 0.35, \n",
    "               0.588, 0.379, 0.149, 0.316, 0.39, 0.429, 0.477, 0.439, 0.446, 0.538, \n",
    "               0.625, 0.974],\n",
    "    \"Area\": [0.34, 0.64, 0.76, 0.83, 0.73, 0.82, 0.95, 1.06, 1.2, 1.47, \n",
    "             0.44, 0.77, 0.9, 1.07, 1.01, 1.03, 1.16, 1.21, 1.2, 1.22, \n",
    "             0.99, 0.77, 1.05, 1.06, 1.02, 0.99, 0.97, 1.12, 1.23, 1.19, \n",
    "             1.22, 1.4],\n",
    "    \"Group\": [3, 3, 3, 3, 3, 3, 3, 3, 3, 3, \n",
    "              1, 1, 1, 1, 1, 1, 1, 1, 1, 1, \n",
    "              2, 2, 2, 2, 2, 2, 2, 2, 2, 2, \n",
    "              2,2],\n",
    "    \"X2\": [0, 0, 0, 0, 0, 0, 0, 0, 0, 0, \n",
    "           1, 1, 1, 1, 1, 1, 1, 1, 1, 1, \n",
    "           0, 0, 0, 0, 0, 0, 0, 0, 0, 0, \n",
    "           0, 0],\n",
    "    \"X3\": [0, 0, 0, 0, 0, 0, 0, 0, 0, 0, \n",
    "           0, 0, 0, 0, 0, 0, 0, 0, 0, 0, \n",
    "           1, 1, 1, 1, 1, 1, 1, 1, 1, 1, \n",
    "           1, 1]\n",
    "}\n",
    "\n",
    "# print(len(data[\"Infarc\"]))\n",
    "# print(len(data[\"Area\"]))\n",
    "# print(len(data[\"Group\"]))\n",
    "# print(len(data[\"X2\"]))\n",
    "# print(len(data[\"X3\"]))\n",
    "\n",
    "\n",
    "# Convert to DataFrame\n",
    "df = pd.DataFrame(data)\n",
    "\n",
    "# Display the DataFrame\n",
    "print(df)\n"
   ]
  },
  {
   "cell_type": "markdown",
   "id": "c4353405",
   "metadata": {},
   "source": [
    "#### Intuitive Method"
   ]
  },
  {
   "cell_type": "markdown",
   "id": "60dfe422",
   "metadata": {},
   "source": [
    "yi is the size of the infarcted area (in grams) of rabbit i\n",
    "\n",
    "xi1 is the size of the region at risk (in grams) of rabbit i\n",
    "\n",
    "xi2 = 1 if early cooling of rabbit i, 0 if not\n",
    "\n",
    "xi3 = 1 if late cooling of rabbit i, 0 if not and the independent error terms εi follow a"
   ]
  },
  {
   "cell_type": "code",
   "execution_count": 24,
   "id": "096c894b",
   "metadata": {},
   "outputs": [],
   "source": [
    "y = df[\"Infarc\"]\n",
    "x1 = df[\"Area\"]\n",
    "x2 = df[\"X2\"]\n",
    "x3 = df[\"X3\"]\n"
   ]
  },
  {
   "cell_type": "code",
   "execution_count": null,
   "id": "34b5b4a2",
   "metadata": {},
   "outputs": [],
   "source": [
    "\n"
   ]
  },
  {
   "cell_type": "code",
   "execution_count": 25,
   "id": "dfdaba17",
   "metadata": {},
   "outputs": [
    {
     "name": "stdout",
     "output_type": "stream",
     "text": [
      "Coefficients (Intercept, Area, X2, X3): [-0.12775917  0.6049536  -0.27849939 -0.04894469]\n",
      "Mean Squared Error: 0.013528226902025802\n",
      "\n",
      "Actual vs Predicted Values:\n",
      "Actual | Predicted\n",
      "0.119  |  0.078\n",
      "0.190  |  0.259\n",
      "0.395  |  0.332\n",
      "0.469  |  0.374\n",
      "0.130  |  0.314\n",
      "0.311  |  0.368\n",
      "0.418  |  0.447\n",
      "0.480  |  0.513\n",
      "0.687  |  0.598\n",
      "0.847  |  0.762\n",
      "0.062  |  -0.140\n",
      "0.122  |  0.060\n",
      "0.033  |  0.138\n",
      "0.102  |  0.241\n",
      "0.206  |  0.205\n",
      "0.249  |  0.217\n",
      "0.220  |  0.295\n",
      "0.299  |  0.326\n",
      "0.350  |  0.320\n",
      "0.350  |  0.332\n",
      "0.588  |  0.422\n",
      "0.379  |  0.289\n",
      "0.149  |  0.458\n",
      "0.316  |  0.465\n",
      "0.390  |  0.440\n",
      "0.429  |  0.422\n",
      "0.477  |  0.410\n",
      "0.439  |  0.501\n",
      "0.446  |  0.567\n",
      "0.538  |  0.543\n",
      "0.625  |  0.561\n",
      "0.974  |  0.670\n"
     ]
    },
    {
     "data": {
      "image/png": "[encoded data removed]",
      "text/plain": [
       "<Figure size 640x480 with 1 Axes>"
      ]
     },
     "metadata": {},
     "output_type": "display_data"
    }
   ],
   "source": [
    "import numpy as np\n",
    "\n",
    "# Extract the necessary data\n",
    "y = df[\"Infarc\"].values\n",
    "X = df[[\"Area\", \"X2\", \"X3\"]].values\n",
    "\n",
    "# Add a column of ones to X for the intercept term\n",
    "X = np.column_stack((np.ones(X.shape[0]), X))\n",
    "\n",
    "# Calculate the coefficients using the normal equation\n",
    "beta = np.linalg.inv(X.T.dot(X)).dot(X.T).dot(y)\n",
    "\n",
    "# Display the coefficients\n",
    "print(\"Coefficients (Intercept, Area, X2, X3):\", beta)\n",
    "\n",
    "# Predict the values\n",
    "predictions = X.dot(beta)\n",
    "\n",
    "# Calculate the Mean Squared Error (MSE)\n",
    "mse = np.mean((y - predictions) ** 2)\n",
    "print(\"Mean Squared Error:\", mse)\n",
    "\n",
    "# Plotting the results\n",
    "print(\"\\nActual vs Predicted Values:\")\n",
    "print(\"Actual | Predicted\")\n",
    "for actual, predicted in zip(y, predictions):\n",
    "    print(f\"{actual:.3f}  |  {predicted:.3f}\")\n",
    "\n",
    "\n",
    "import matplotlib.pyplot as plt\n",
    "plt.scatter(y, predictions)\n",
    "plt.xlabel(\"Actual\")\n",
    "plt.ylabel(\"Predicted\")\n",
    "plt.title(\"Actual vs Predicted\")\n",
    "plt.show()"
   ]
  },
  {
   "cell_type": "code",
   "execution_count": null,
   "id": "8fd10a9d",
   "metadata": {},
   "outputs": [],
   "source": []
  },
  {
   "cell_type": "code",
   "execution_count": null,
   "id": "ecdc19ce",
   "metadata": {},
   "outputs": [],
   "source": []
  },
  {
   "cell_type": "code",
   "execution_count": null,
   "id": "8481eddc",
   "metadata": {},
   "outputs": [],
   "source": []
  }
 ],
 "metadata": {
  "kernelspec": {
   "display_name": "Python 3 (ipykernel)",
   "language": "python",
   "name": "python3"
  },
  "language_info": {
   "codemirror_mode": {
    "name": "ipython",
    "version": 3
   },
   "file_extension": ".py",
   "mimetype": "text/x-python",
   "name": "python",
   "nbconvert_exporter": "python",
   "pygments_lexer": "ipython3",
   "version": "3.11.1"
  }
 },
 "nbformat": 4,
 "nbformat_minor": 5
}
