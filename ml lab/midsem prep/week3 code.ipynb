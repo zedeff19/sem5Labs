{
 "cells": [
  {
   "cell_type": "code",
   "execution_count": 1,
   "id": "0f52d8c9",
   "metadata": {},
   "outputs": [],
   "source": [
    "import pandas as pd\n",
    "import numpy as np"
   ]
  },
  {
   "cell_type": "code",
   "execution_count": 2,
   "id": "d31d2b08",
   "metadata": {},
   "outputs": [],
   "source": [
    "df = pd.read_csv('diabetes_csv.csv')"
   ]
  },
  {
   "cell_type": "code",
   "execution_count": 3,
   "id": "a10dec5f",
   "metadata": {},
   "outputs": [
    {
     "data": {
      "text/plain": [
       "<bound method NDFrame.head of      Pregnancies  Glucose  BloodPressure  SkinThickness  Insulin   BMI  \\\n",
       "0              6      148             72             35        0  33.6   \n",
       "1              1       85             66             29        0  26.6   \n",
       "2              8      183             64              0        0  23.3   \n",
       "3              1       89             66             23       94  28.1   \n",
       "4              0      137             40             35      168  43.1   \n",
       "..           ...      ...            ...            ...      ...   ...   \n",
       "763           10      101             76             48      180  32.9   \n",
       "764            2      122             70             27        0  36.8   \n",
       "765            5      121             72             23      112  26.2   \n",
       "766            1      126             60              0        0  30.1   \n",
       "767            1       93             70             31        0  30.4   \n",
       "\n",
       "     DiabetesPedigreeFunction  Age  Outcome  \n",
       "0                       0.627   50        1  \n",
       "1                       0.351   31        0  \n",
       "2                       0.672   32        1  \n",
       "3                       0.167   21        0  \n",
       "4                       2.288   33        1  \n",
       "..                        ...  ...      ...  \n",
       "763                     0.171   63        0  \n",
       "764                     0.340   27        0  \n",
       "765                     0.245   30        0  \n",
       "766                     0.349   47        1  \n",
       "767                     0.315   23        0  \n",
       "\n",
       "[768 rows x 9 columns]>"
      ]
     },
     "execution_count": 3,
     "metadata": {},
     "output_type": "execute_result"
    }
   ],
   "source": [
    "df.head"
   ]
  },
  {
   "cell_type": "markdown",
   "id": "fba64870",
   "metadata": {},
   "source": [
    "#### 1. 1. Load data in Pandas."
   ]
  },
  {
   "cell_type": "code",
   "execution_count": 4,
   "id": "58dc67da",
   "metadata": {},
   "outputs": [
    {
     "data": {
      "text/plain": [
       "<bound method NDFrame.head of      Pregnancies  Glucose  BloodPressure  SkinThickness  Insulin   BMI  \\\n",
       "0              6      148             72             35        0  33.6   \n",
       "1              1       85             66             29        0  26.6   \n",
       "2              8      183             64              0        0  23.3   \n",
       "3              1       89             66             23       94  28.1   \n",
       "4              0      137             40             35      168  43.1   \n",
       "..           ...      ...            ...            ...      ...   ...   \n",
       "763           10      101             76             48      180  32.9   \n",
       "764            2      122             70             27        0  36.8   \n",
       "765            5      121             72             23      112  26.2   \n",
       "766            1      126             60              0        0  30.1   \n",
       "767            1       93             70             31        0  30.4   \n",
       "\n",
       "     DiabetesPedigreeFunction  Age  Outcome  \n",
       "0                       0.627   50        1  \n",
       "1                       0.351   31        0  \n",
       "2                       0.672   32        1  \n",
       "3                       0.167   21        0  \n",
       "4                       2.288   33        1  \n",
       "..                        ...  ...      ...  \n",
       "763                     0.171   63        0  \n",
       "764                     0.340   27        0  \n",
       "765                     0.245   30        0  \n",
       "766                     0.349   47        1  \n",
       "767                     0.315   23        0  \n",
       "\n",
       "[768 rows x 9 columns]>"
      ]
     },
     "execution_count": 4,
     "metadata": {},
     "output_type": "execute_result"
    }
   ],
   "source": [
    "df.head"
   ]
  },
  {
   "cell_type": "markdown",
   "id": "6630b06b",
   "metadata": {},
   "source": [
    "#### 1. 2. Drop columns that aren’t useful."
   ]
  },
  {
   "cell_type": "code",
   "execution_count": 5,
   "id": "ff69bd5b",
   "metadata": {},
   "outputs": [
    {
     "data": {
      "text/html": [
       "<div>\n",
       "<style scoped>\n",
       "    .dataframe tbody tr th:only-of-type {\n",
       "        vertical-align: middle;\n",
       "    }\n",
       "\n",
       "    .dataframe tbody tr th {\n",
       "        vertical-align: top;\n",
       "    }\n",
       "\n",
       "    .dataframe thead th {\n",
       "        text-align: right;\n",
       "    }\n",
       "</style>\n",
       "<table border=\"1\" class=\"dataframe\">\n",
       "  <thead>\n",
       "    <tr style=\"text-align: right;\">\n",
       "      <th></th>\n",
       "      <th>Pregnancies</th>\n",
       "      <th>Glucose</th>\n",
       "      <th>BloodPressure</th>\n",
       "      <th>SkinThickness</th>\n",
       "      <th>Insulin</th>\n",
       "      <th>BMI</th>\n",
       "      <th>DiabetesPedigreeFunction</th>\n",
       "      <th>Age</th>\n",
       "      <th>Outcome</th>\n",
       "    </tr>\n",
       "  </thead>\n",
       "  <tbody>\n",
       "    <tr>\n",
       "      <th>Pregnancies</th>\n",
       "      <td>1.000000</td>\n",
       "      <td>0.129459</td>\n",
       "      <td>0.141282</td>\n",
       "      <td>-0.081672</td>\n",
       "      <td>-0.073535</td>\n",
       "      <td>0.017683</td>\n",
       "      <td>-0.033523</td>\n",
       "      <td>0.544341</td>\n",
       "      <td>0.221898</td>\n",
       "    </tr>\n",
       "    <tr>\n",
       "      <th>Glucose</th>\n",
       "      <td>0.129459</td>\n",
       "      <td>1.000000</td>\n",
       "      <td>0.152590</td>\n",
       "      <td>0.057328</td>\n",
       "      <td>0.331357</td>\n",
       "      <td>0.221071</td>\n",
       "      <td>0.137337</td>\n",
       "      <td>0.263514</td>\n",
       "      <td>0.466581</td>\n",
       "    </tr>\n",
       "    <tr>\n",
       "      <th>BloodPressure</th>\n",
       "      <td>0.141282</td>\n",
       "      <td>0.152590</td>\n",
       "      <td>1.000000</td>\n",
       "      <td>0.207371</td>\n",
       "      <td>0.088933</td>\n",
       "      <td>0.281805</td>\n",
       "      <td>0.041265</td>\n",
       "      <td>0.239528</td>\n",
       "      <td>0.065068</td>\n",
       "    </tr>\n",
       "    <tr>\n",
       "      <th>SkinThickness</th>\n",
       "      <td>-0.081672</td>\n",
       "      <td>0.057328</td>\n",
       "      <td>0.207371</td>\n",
       "      <td>1.000000</td>\n",
       "      <td>0.436783</td>\n",
       "      <td>0.392573</td>\n",
       "      <td>0.183928</td>\n",
       "      <td>-0.113970</td>\n",
       "      <td>0.074752</td>\n",
       "    </tr>\n",
       "    <tr>\n",
       "      <th>Insulin</th>\n",
       "      <td>-0.073535</td>\n",
       "      <td>0.331357</td>\n",
       "      <td>0.088933</td>\n",
       "      <td>0.436783</td>\n",
       "      <td>1.000000</td>\n",
       "      <td>0.197859</td>\n",
       "      <td>0.185071</td>\n",
       "      <td>-0.042163</td>\n",
       "      <td>0.130548</td>\n",
       "    </tr>\n",
       "    <tr>\n",
       "      <th>BMI</th>\n",
       "      <td>0.017683</td>\n",
       "      <td>0.221071</td>\n",
       "      <td>0.281805</td>\n",
       "      <td>0.392573</td>\n",
       "      <td>0.197859</td>\n",
       "      <td>1.000000</td>\n",
       "      <td>0.140647</td>\n",
       "      <td>0.036242</td>\n",
       "      <td>0.292695</td>\n",
       "    </tr>\n",
       "    <tr>\n",
       "      <th>DiabetesPedigreeFunction</th>\n",
       "      <td>-0.033523</td>\n",
       "      <td>0.137337</td>\n",
       "      <td>0.041265</td>\n",
       "      <td>0.183928</td>\n",
       "      <td>0.185071</td>\n",
       "      <td>0.140647</td>\n",
       "      <td>1.000000</td>\n",
       "      <td>0.033561</td>\n",
       "      <td>0.173844</td>\n",
       "    </tr>\n",
       "    <tr>\n",
       "      <th>Age</th>\n",
       "      <td>0.544341</td>\n",
       "      <td>0.263514</td>\n",
       "      <td>0.239528</td>\n",
       "      <td>-0.113970</td>\n",
       "      <td>-0.042163</td>\n",
       "      <td>0.036242</td>\n",
       "      <td>0.033561</td>\n",
       "      <td>1.000000</td>\n",
       "      <td>0.238356</td>\n",
       "    </tr>\n",
       "    <tr>\n",
       "      <th>Outcome</th>\n",
       "      <td>0.221898</td>\n",
       "      <td>0.466581</td>\n",
       "      <td>0.065068</td>\n",
       "      <td>0.074752</td>\n",
       "      <td>0.130548</td>\n",
       "      <td>0.292695</td>\n",
       "      <td>0.173844</td>\n",
       "      <td>0.238356</td>\n",
       "      <td>1.000000</td>\n",
       "    </tr>\n",
       "  </tbody>\n",
       "</table>\n",
       "</div>"
      ],
      "text/plain": [
       "                          Pregnancies   Glucose  BloodPressure  SkinThickness  \\\n",
       "Pregnancies                  1.000000  0.129459       0.141282      -0.081672   \n",
       "Glucose                      0.129459  1.000000       0.152590       0.057328   \n",
       "BloodPressure                0.141282  0.152590       1.000000       0.207371   \n",
       "SkinThickness               -0.081672  0.057328       0.207371       1.000000   \n",
       "Insulin                     -0.073535  0.331357       0.088933       0.436783   \n",
       "BMI                          0.017683  0.221071       0.281805       0.392573   \n",
       "DiabetesPedigreeFunction    -0.033523  0.137337       0.041265       0.183928   \n",
       "Age                          0.544341  0.263514       0.239528      -0.113970   \n",
       "Outcome                      0.221898  0.466581       0.065068       0.074752   \n",
       "\n",
       "                           Insulin       BMI  DiabetesPedigreeFunction  \\\n",
       "Pregnancies              -0.073535  0.017683                 -0.033523   \n",
       "Glucose                   0.331357  0.221071                  0.137337   \n",
       "BloodPressure             0.088933  0.281805                  0.041265   \n",
       "SkinThickness             0.436783  0.392573                  0.183928   \n",
       "Insulin                   1.000000  0.197859                  0.185071   \n",
       "BMI                       0.197859  1.000000                  0.140647   \n",
       "DiabetesPedigreeFunction  0.185071  0.140647                  1.000000   \n",
       "Age                      -0.042163  0.036242                  0.033561   \n",
       "Outcome                   0.130548  0.292695                  0.173844   \n",
       "\n",
       "                               Age   Outcome  \n",
       "Pregnancies               0.544341  0.221898  \n",
       "Glucose                   0.263514  0.466581  \n",
       "BloodPressure             0.239528  0.065068  \n",
       "SkinThickness            -0.113970  0.074752  \n",
       "Insulin                  -0.042163  0.130548  \n",
       "BMI                       0.036242  0.292695  \n",
       "DiabetesPedigreeFunction  0.033561  0.173844  \n",
       "Age                       1.000000  0.238356  \n",
       "Outcome                   0.238356  1.000000  "
      ]
     },
     "execution_count": 5,
     "metadata": {},
     "output_type": "execute_result"
    }
   ],
   "source": [
    "df.corr()"
   ]
  },
  {
   "cell_type": "code",
   "execution_count": 6,
   "id": "768e9d86",
   "metadata": {},
   "outputs": [],
   "source": [
    "df = df.drop(df['Glucose'])"
   ]
  },
  {
   "cell_type": "code",
   "execution_count": 7,
   "id": "94a5abf8",
   "metadata": {},
   "outputs": [
    {
     "data": {
      "text/plain": [
       "Index(['Pregnancies', 'Glucose', 'BloodPressure', 'SkinThickness', 'Insulin',\n",
       "       'BMI', 'DiabetesPedigreeFunction', 'Age', 'Outcome'],\n",
       "      dtype='object')"
      ]
     },
     "execution_count": 7,
     "metadata": {},
     "output_type": "execute_result"
    }
   ],
   "source": [
    "df.columns"
   ]
  },
  {
   "cell_type": "markdown",
   "id": "cccdce96",
   "metadata": {},
   "source": [
    "#### 1. 3. Drop rows with missing values."
   ]
  },
  {
   "cell_type": "markdown",
   "id": "0af19ee2",
   "metadata": {},
   "source": [
    "df.dropna(axis=0)"
   ]
  },
  {
   "cell_type": "markdown",
   "id": "ed682122",
   "metadata": {},
   "source": [
    "#### 1. 4. Create dummy variables."
   ]
  },
  {
   "cell_type": "code",
   "execution_count": 8,
   "id": "4bb596bf",
   "metadata": {},
   "outputs": [],
   "source": [
    "features = ['Pregnancies','Glucose','BloodPressure','SkinThickness','Insulin','BMI','DiabetesPedigreeFunction','Age']"
   ]
  },
  {
   "cell_type": "code",
   "execution_count": 9,
   "id": "0159fdd7",
   "metadata": {},
   "outputs": [],
   "source": [
    "outcomes = ['Outcome']"
   ]
  },
  {
   "cell_type": "code",
   "execution_count": 10,
   "id": "42a3feb7",
   "metadata": {},
   "outputs": [],
   "source": [
    "X = df[features]\n",
    "y = df[outcomes]"
   ]
  },
  {
   "cell_type": "code",
   "execution_count": 11,
   "id": "f669650d",
   "metadata": {},
   "outputs": [
    {
     "data": {
      "text/plain": [
       "Index(['Pregnancies', 'Glucose', 'BloodPressure', 'SkinThickness', 'Insulin',\n",
       "       'BMI', 'DiabetesPedigreeFunction', 'Age'],\n",
       "      dtype='object')"
      ]
     },
     "execution_count": 11,
     "metadata": {},
     "output_type": "execute_result"
    }
   ],
   "source": [
    "X.columns"
   ]
  },
  {
   "cell_type": "code",
   "execution_count": 12,
   "id": "85bff006",
   "metadata": {},
   "outputs": [
    {
     "data": {
      "text/plain": [
       "Index(['Outcome'], dtype='object')"
      ]
     },
     "execution_count": 12,
     "metadata": {},
     "output_type": "execute_result"
    }
   ],
   "source": [
    "y.columns"
   ]
  },
  {
   "cell_type": "markdown",
   "id": "2eea8d4a",
   "metadata": {},
   "source": [
    "#### 1. 5. Take care of missing data."
   ]
  },
  {
   "cell_type": "code",
   "execution_count": 13,
   "id": "d1304bff",
   "metadata": {},
   "outputs": [
    {
     "data": {
      "text/plain": [
       "Pregnancies                 0\n",
       "Glucose                     0\n",
       "BloodPressure               0\n",
       "SkinThickness               0\n",
       "Insulin                     0\n",
       "BMI                         0\n",
       "DiabetesPedigreeFunction    0\n",
       "Age                         0\n",
       "Outcome                     0\n",
       "dtype: int64"
      ]
     },
     "execution_count": 13,
     "metadata": {},
     "output_type": "execute_result"
    }
   ],
   "source": [
    "df.isnull().sum()"
   ]
  },
  {
   "cell_type": "code",
   "execution_count": 14,
   "id": "94ed8e71",
   "metadata": {},
   "outputs": [],
   "source": [
    "X=X.fillna(0)"
   ]
  },
  {
   "cell_type": "markdown",
   "id": "7cd8aa52",
   "metadata": {},
   "source": [
    "#### 1.6 Convert the data frame to NumPy."
   ]
  },
  {
   "cell_type": "code",
   "execution_count": 15,
   "id": "eabab34c",
   "metadata": {},
   "outputs": [],
   "source": [
    "ser = np.array(df, dtype='int32')"
   ]
  },
  {
   "cell_type": "code",
   "execution_count": 16,
   "id": "084b6a8f",
   "metadata": {},
   "outputs": [
    {
     "data": {
      "text/plain": [
       "array([[  1,  85,  66, ...,   0,  31,   0],\n",
       "       [  8, 183,  64, ...,   0,  32,   1],\n",
       "       [  1,  89,  66, ...,   0,  21,   0],\n",
       "       ...,\n",
       "       [  5, 121,  72, ...,   0,  30,   0],\n",
       "       [  1, 126,  60, ...,   0,  47,   1],\n",
       "       [  1,  93,  70, ...,   0,  23,   0]], dtype=int32)"
      ]
     },
     "execution_count": 16,
     "metadata": {},
     "output_type": "execute_result"
    }
   ],
   "source": [
    "ser"
   ]
  },
  {
   "cell_type": "code",
   "execution_count": 17,
   "id": "e51b75fa",
   "metadata": {},
   "outputs": [
    {
     "data": {
      "text/plain": [
       "(632, 9)"
      ]
     },
     "execution_count": 17,
     "metadata": {},
     "output_type": "execute_result"
    }
   ],
   "source": [
    "ser.shape"
   ]
  },
  {
   "cell_type": "code",
   "execution_count": 18,
   "id": "f7c8d177",
   "metadata": {},
   "outputs": [
    {
     "name": "stdout",
     "output_type": "stream",
     "text": [
      "int32\n",
      "<class 'numpy.ndarray'>\n"
     ]
    }
   ],
   "source": [
    "print(ser.dtype)\n",
    "print(type(ser))"
   ]
  },
  {
   "cell_type": "markdown",
   "id": "762b80c8",
   "metadata": {},
   "source": [
    "#### 1. 7. Divide the data set into training data and test data."
   ]
  },
  {
   "cell_type": "code",
   "execution_count": 19,
   "id": "ef9e378e",
   "metadata": {},
   "outputs": [],
   "source": [
    "from sklearn.model_selection import train_test_split"
   ]
  },
  {
   "cell_type": "code",
   "execution_count": 20,
   "id": "8cddd66d",
   "metadata": {},
   "outputs": [],
   "source": [
    "X_train, X_test, y_train, y_test = train_test_split(X, y, test_size=0.05, random_state=0)"
   ]
  },
  {
   "cell_type": "code",
   "execution_count": 21,
   "id": "124e6cf8",
   "metadata": {},
   "outputs": [
    {
     "data": {
      "text/plain": [
       "(600, 8)"
      ]
     },
     "execution_count": 21,
     "metadata": {},
     "output_type": "execute_result"
    }
   ],
   "source": [
    "X_train.shape"
   ]
  },
  {
   "cell_type": "code",
   "execution_count": 22,
   "id": "6e9e2d82",
   "metadata": {},
   "outputs": [
    {
     "data": {
      "text/plain": [
       "(600, 1)"
      ]
     },
     "execution_count": 22,
     "metadata": {},
     "output_type": "execute_result"
    }
   ],
   "source": [
    "y_train.shape"
   ]
  },
  {
   "cell_type": "markdown",
   "id": "4dc46e74",
   "metadata": {},
   "source": [
    "### 2. a.  Construct a CSV file with the following attributes:\n",
    "Study time in hours of ML lab course (x)\n",
    "Score out of 10 (y)\n",
    "The dataset should contain 10 rows."
   ]
  },
  {
   "cell_type": "code",
   "execution_count": 23,
   "id": "776d74cf",
   "metadata": {},
   "outputs": [
    {
     "name": "stdout",
     "output_type": "stream",
     "text": [
      "   Hours  Score\n",
      "0      2      1\n",
      "1      4      2\n",
      "2      6      3\n",
      "3      8      4\n",
      "4     10      5\n",
      "5     12      6\n",
      "6     14      7\n",
      "7     16      8\n",
      "8     18      9\n",
      "9     20     10\n"
     ]
    }
   ],
   "source": [
    "\n",
    "# initialize data of lists.\n",
    "data = {'Hours': [2, 4, 6, 8, 10, 12, 14, 16, 18, 20],\n",
    "        'Score': [1, 2, 3,4, 5, 6, 7, 8, 9, 10]}\n",
    "\n",
    "df.to_csv('created.csv')\n",
    "\n",
    "# Create DataFrame\n",
    "df = pd.DataFrame(data)\n",
    "X = df['Hours']\n",
    "y = df['Score']\n",
    "\n",
    "# Print the output.\n",
    "print(df)"
   ]
  },
  {
   "cell_type": "markdown",
   "id": "57210451",
   "metadata": {},
   "source": [
    "#### b. Create a regression model and display the following:\n",
    "Coefficients: B0 (intercept) and B1 (slope)\n",
    "\n",
    "RMSE (Root Mean Square Error)\n",
    "\n",
    "Predicted responses"
   ]
  },
  {
   "cell_type": "code",
   "execution_count": 24,
   "id": "912bacac",
   "metadata": {},
   "outputs": [
    {
     "name": "stdout",
     "output_type": "stream",
     "text": [
      "Intercept (a): 0.0\n",
      "Slope (b): 0.5\n"
     ]
    }
   ],
   "source": [
    "def linear_regression(X, Y):\n",
    "    n = len(X)\n",
    "    \n",
    "    # Calculate means\n",
    "    mean_X = sum(X) / n\n",
    "    mean_Y = sum(Y) / n\n",
    "    \n",
    "    # Calculate the slope (b) and intercept (a)\n",
    "    numerator = sum((X[i] - mean_X) * (Y[i] - mean_Y) for i in range(n))\n",
    "    denominator = sum((X[i] - mean_X) ** 2 for i in range(n))\n",
    "    \n",
    "    num=0\n",
    "    den = 0\n",
    "    for i in range(n):\n",
    "        num+=(X[i] - mean_X)*(Y[i] - mean_Y) \n",
    "        den+=(X[i]-mean_X)**2\n",
    "    \n",
    "#     b = numerator / denominator\n",
    "#     a = mean_Y - b * mean_X\n",
    "    \n",
    "    \n",
    "    #eqn : y = a0 + a1.x\n",
    "\n",
    "    a1 = num/den\n",
    "    a0 = mean_Y - (a1*mean_X)\n",
    "    \n",
    "    return a0, a1\n",
    "\n",
    "a, b = linear_regression(X, y)\n",
    "print(\"Intercept (a):\", a)\n",
    "print(\"Slope (b):\", b)\n"
   ]
  },
  {
   "cell_type": "code",
   "execution_count": 25,
   "id": "74b4110f",
   "metadata": {},
   "outputs": [],
   "source": [
    "#linear model eqn: y = a0 + a1*x => y = 0 + 0.5*x"
   ]
  },
  {
   "cell_type": "code",
   "execution_count": null,
   "id": "5ec073b0",
   "metadata": {},
   "outputs": [],
   "source": []
  },
  {
   "cell_type": "code",
   "execution_count": 26,
   "id": "3527616f",
   "metadata": {},
   "outputs": [],
   "source": [
    "def getPredictions(a, b, X_vals, y_vals):\n",
    "    for x in X_vals:\n",
    "        y = a + (b*x)\n",
    "        y_vals.append(y)\n",
    "        "
   ]
  },
  {
   "cell_type": "code",
   "execution_count": 27,
   "id": "4b0966fa",
   "metadata": {},
   "outputs": [
    {
     "name": "stdout",
     "output_type": "stream",
     "text": [
      "predict y: \n",
      "[1.0, 2.0, 3.0, 4.0, 5.0, 6.0, 7.0, 8.0, 9.0, 10.0]\n",
      "actual y: \n",
      "0     1\n",
      "1     2\n",
      "2     3\n",
      "3     4\n",
      "4     5\n",
      "5     6\n",
      "6     7\n",
      "7     8\n",
      "8     9\n",
      "9    10\n",
      "Name: Score, dtype: int64\n",
      "error:  0.0\n"
     ]
    }
   ],
   "source": [
    "x_test = X\n",
    "y_test = []\n",
    "getPredictions(a,b,x_test, y_test)\n",
    "print(\"predict y: \")\n",
    "print(y_test)\n",
    "print(\"actual y: \")\n",
    "print(df['Score'])\n",
    "\n",
    "\n",
    "def getError(y_test, y_train):\n",
    "        err = 0\n",
    "        for i in range(len(y_test)):\n",
    "            err = err + (y_train[i] - y_test[i])**2\n",
    "        err = err**0.5\n",
    "        print (\"error: \", err)\n",
    "\n",
    "getError(y_test, df['Score'] )"
   ]
  },
  {
   "cell_type": "code",
   "execution_count": 28,
   "id": "f6e860c3",
   "metadata": {},
   "outputs": [
    {
     "name": "stdout",
     "output_type": "stream",
     "text": [
      "predicted: \n",
      "[2, 4, 6, 7, 9, 10]\n",
      "[1.0, 2.0, 3.0, 3.5, 4.5, 5.0]\n"
     ]
    }
   ],
   "source": [
    "x_test = [2,4,6,7,9,10]\n",
    "y_test = []\n",
    "for x in x_test:\n",
    "    y = a + (b*x)\n",
    "    y_test.append(y)\n",
    "print(\"predicted: \")\n",
    "print((x_test))\n",
    "print((y_test))"
   ]
  },
  {
   "cell_type": "code",
   "execution_count": 29,
   "id": "cbc3e92b",
   "metadata": {},
   "outputs": [],
   "source": [
    "#### plotting input data on scatter plot"
   ]
  },
  {
   "cell_type": "code",
   "execution_count": 30,
   "id": "4f796953",
   "metadata": {},
   "outputs": [
    {
     "data": {
      "image/png": "[encoded data removed]",
      "text/plain": [
       "<Figure size 640x480 with 1 Axes>"
      ]
     },
     "metadata": {},
     "output_type": "display_data"
    }
   ],
   "source": [
    "import matplotlib.pyplot as plt\n",
    "plt.plot(df['Hours'], df['Score'], 'ro')\n",
    "plt.plot(x_test, y_test, 'g', linestyle='dashed', marker='o', linewidth=3)\n",
    "plt.show()"
   ]
  },
  {
   "cell_type": "markdown",
   "id": "9c707074",
   "metadata": {},
   "source": [
    "#### rmse"
   ]
  },
  {
   "cell_type": "markdown",
   "id": "61b0d304",
   "metadata": {},
   "source": [
    "#### Create a scatter plot of the data points in red color and plot the graph of x vs. predicted y in blue color."
   ]
  },
  {
   "cell_type": "code",
   "execution_count": 32,
   "id": "55b2985b",
   "metadata": {},
   "outputs": [
    {
     "data": {
      "image/png": "[encoded data removed]",
      "text/plain": [
       "<Figure size 640x480 with 1 Axes>"
      ]
     },
     "metadata": {},
     "output_type": "display_data"
    }
   ],
   "source": [
    "plt.plot(df['Hours'],df['Score'], 'ro')\n",
    "plt.title(\"GIVEN DATA vs Predicted Values:\")\n",
    "plt.plot(df['Hours'], df['Score'], 'b')\n",
    "plt.show()"
   ]
  },
  {
   "cell_type": "markdown",
   "id": "9d6ac885",
   "metadata": {},
   "source": [
    "#### Calculus Method"
   ]
  },
  {
   "cell_type": "code",
   "execution_count": 33,
   "id": "ee6c656d",
   "metadata": {},
   "outputs": [
    {
     "name": "stdout",
     "output_type": "stream",
     "text": [
      "Estimated coefficients:\n",
      "Intercept (beta_0): 4.20607718142562\n",
      "Slope (beta_1): 2.9827303563323175\n",
      "Predictions:\n",
      "[[ 4.20607718]\n",
      " [10.17153789]]\n"
     ]
    }
   ],
   "source": [
    "import numpy as np\n",
    "\n",
    "np.random.seed(0)  # For reproducibility\n",
    "X = 2 * np.random.rand(100, 1)\n",
    "y = 4 + 3 * X + np.random.randn(100, 1)\n",
    "\n",
    "X_b = np.c_[np.ones((100, 1)), X]\n",
    "\n",
    "theta = np.random.randn(2, 1)  # Random initialization\n",
    "\n",
    "learning_rate = 0.01\n",
    "n_iterations = 1000\n",
    "m = len(X_b)\n",
    "\n",
    "for iteration in range(n_iterations):\n",
    "    gradients = 2/m * X_b.T.dot(X_b.dot(theta) - y)\n",
    "    theta = theta - learning_rate * gradients\n",
    "\n",
    "print(\"Estimated coefficients:\")\n",
    "print(f\"Intercept (beta_0): {theta[0][0]}\")\n",
    "print(f\"Slope (beta_1): {theta[1][0]}\")\n",
    "\n",
    "X_new = np.array([[0], [2]])\n",
    "X_new_b = np.c_[np.ones((2, 1)), X_new]  \n",
    "y_predict = X_new_b.dot(theta)\n",
    "\n",
    "print(\"Predictions:\")\n",
    "print(y_predict)\n"
   ]
  },
  {
   "cell_type": "markdown",
   "id": "fa5b0069",
   "metadata": {},
   "source": [
    "#### 2. e. Compare the coefficients obtained using both methods and compare them with the analytical solution."
   ]
  },
  {
   "cell_type": "code",
   "execution_count": 34,
   "id": "77a8ee04",
   "metadata": {},
   "outputs": [
    {
     "name": "stdout",
     "output_type": "stream",
     "text": [
      "difference bw intercepts: \n",
      "4.20607718142562\n"
     ]
    }
   ],
   "source": [
    "print('difference bw intercepts: ')\n",
    "print(theta[0][0] - a)"
   ]
  },
  {
   "cell_type": "code",
   "execution_count": 35,
   "id": "6758ae8f",
   "metadata": {},
   "outputs": [
    {
     "name": "stdout",
     "output_type": "stream",
     "text": [
      "diff bw slopes: \n",
      "2.4827303563323175\n"
     ]
    }
   ],
   "source": [
    "print('diff bw slopes: ')\n",
    "print(theta[1][0] - b)"
   ]
  },
  {
   "cell_type": "markdown",
   "id": "16e92896",
   "metadata": {},
   "source": [
    "#### 2. f. Test your model to predict the score obtained when the study time of a student is 10 hours."
   ]
  },
  {
   "cell_type": "code",
   "execution_count": null,
   "id": "28ed8430",
   "metadata": {},
   "outputs": [],
   "source": [
    "test_x = 10\n",
    "test_y = a + (b*test_x)\n",
    "print(f'predicted value for x = {test_x} is',test_y)"
   ]
  },
  {
   "cell_type": "code",
   "execution_count": null,
   "id": "8e74c209",
   "metadata": {},
   "outputs": [],
   "source": []
  }
 ],
 "metadata": {
  "kernelspec": {
   "display_name": "Python 3 (ipykernel)",
   "language": "python",
   "name": "python3"
  },
  "language_info": {
   "codemirror_mode": {
    "name": "ipython",
    "version": 3
   },
   "file_extension": ".py",
   "mimetype": "text/x-python",
   "name": "python",
   "nbconvert_exporter": "python",
   "pygments_lexer": "ipython3",
   "version": "3.12.3"
  }
 },
 "nbformat": 4,
 "nbformat_minor": 5
}
