{
 "cells": [
  {
   "cell_type": "code",
   "execution_count": 34,
   "metadata": {},
   "outputs": [],
   "source": [
    "import pandas as pd\n",
    "\n",
    "# Given dataset\n",
    "data = {\n",
    "    'age': ['<=30', '<=30', '31...40', '>40', '>40', '>40', '31...40', '<=30', '<=30', '>40', '<=30', '31...40', '31...40', '>40'],\n",
    "    'income': ['high', 'high', 'high', 'medium', 'low', 'low', 'low', 'medium', 'low', 'medium', 'medium', 'medium', 'high', 'medium'],\n",
    "    'student': ['no', 'no', 'no', 'no', 'yes', 'yes', 'yes', 'no', 'yes', 'yes', 'yes', 'yes', 'no', 'no'],\n",
    "    'credit_rating': ['fair', 'excellent', 'fair', 'fair', 'fair', 'excellent', 'excellent', 'fair', 'fair', 'fair', 'excellent', 'excellent', 'fair', 'excellent'],\n",
    "    'class': ['no', 'no', 'yes', 'yes', 'yes', 'no', 'yes', 'no', 'yes', 'yes', 'yes', 'yes', 'yes', 'no']\n",
    "}\n",
    "\n",
    "df = pd.DataFrame(data)"
   ]
  },
  {
   "cell_type": "code",
   "execution_count": 35,
   "metadata": {},
   "outputs": [
    {
     "name": "stdout",
     "output_type": "stream",
     "text": [
      "p_yes:  0.6428571428571429\n",
      "p_no:  0.35714285714285715\n"
     ]
    }
   ],
   "source": [
    "# p_yes_given(age<=30, income=medium, student=yes, credit_rating=fair )\n",
    "# p_yes_given_eg = p_eg_given_yes * p_yes\n",
    "# p_no_given_eg = p_eg_given_no * p_no\n",
    "\n",
    "total = len(df)\n",
    "p_yes = len(df[df['class']=='yes']) / total\n",
    "p_no = len(df[df['class']=='no']) / total\n",
    "print('p_yes: ', p_yes)\n",
    "print('p_no: ',p_no)\n"
   ]
  },
  {
   "cell_type": "code",
   "execution_count": 36,
   "metadata": {},
   "outputs": [
    {
     "name": "stdout",
     "output_type": "stream",
     "text": [
      "0.04389574759945129\n",
      "0.019200000000000002\n",
      "0.028218694885361547\n",
      "0.006857142857142858\n",
      "yes\n"
     ]
    }
   ],
   "source": [
    "example = {'age': '<=30', 'income': 'medium', 'student':'yes', 'credit_rating': 'fair'}\n",
    "\n",
    "def likelihood(feat_name, feat_val, target_val):\n",
    "    cls_data = df[df['class']==target_val]\n",
    "    n = len(cls_data[cls_data[feat_name]==feat_val])\n",
    "    return n / len(cls_data)\n",
    "\n",
    "p_age_yes = likelihood('age', '<=30', 'yes')\n",
    "p_income_yes = likelihood('income', 'medium', 'yes')\n",
    "p_student_yes = likelihood('student', 'yes', 'yes')\n",
    "p_credit_yes = likelihood('credit_rating', 'fair', 'yes')\n",
    "\n",
    "p_eg_yes = p_age_yes*p_income_yes*p_student_yes*p_credit_yes\n",
    "print(p_eg_yes)\n",
    "\n",
    "p_age_no = likelihood('age', '<=30', 'no')\n",
    "p_income_no = likelihood('income', 'medium', 'no')\n",
    "p_student_no = likelihood('student', 'yes', 'no')\n",
    "p_credit_no = likelihood('credit_rating', 'fair', 'no')\n",
    "\n",
    "p_eg_no = p_age_no*p_income_no*p_student_no*p_credit_no\n",
    "print(p_eg_no)\n",
    "\n",
    "p_yes_eg = p_eg_yes * p_yes\n",
    "p_no_eg = p_eg_no * p_no\n",
    "print(p_yes_eg)\n",
    "print(p_no_eg)\n",
    "\n",
    "if p_yes_eg > p_no_eg:\n",
    "    print('yes')\n",
    "else:\n",
    "    print('no')"
   ]
  },
  {
   "cell_type": "markdown",
   "metadata": {},
   "source": [
    "#### q2"
   ]
  },
  {
   "cell_type": "code",
   "execution_count": 37,
   "metadata": {},
   "outputs": [
    {
     "name": "stdout",
     "output_type": "stream",
     "text": [
      "     Weather Temperature Humidity  Windy play\n",
      "0      Rainy         Hot     High  False   No\n",
      "1      Rainy         Hot     High   True   No\n",
      "2   Overcast         Hot     High  False  Yes\n",
      "3      Sunny        Mild     High  False  Yes\n",
      "4      Sunny        Cool   Normal  False  Yes\n",
      "5      Sunny        Cool   Normal   True   No\n",
      "6   Overcast        Cool   Normal   True  Yes\n",
      "7      Rainy        Mild     High  False   No\n",
      "8      Rainy        Cool   Normal  False  Yes\n",
      "9      Sunny        Mild   Normal  False  Yes\n",
      "10     Rainy        Mild   Normal   True  Yes\n",
      "11  Overcast        Mild     High   True  Yes\n",
      "12  Overcast         Hot   Normal  False  Yes\n",
      "13     Sunny        Mild     High   True   No\n"
     ]
    }
   ],
   "source": [
    "import pandas as pd\n",
    "\n",
    "# Define the data as a list of dictionaries\n",
    "data = [\n",
    "    {'Weather': 'Rainy', 'Temperature': 'Hot', 'Humidity': 'High', 'Windy': False, 'play': 'No'},\n",
    "    {'Weather': 'Rainy', 'Temperature': 'Hot', 'Humidity': 'High', 'Windy': True, 'play': 'No'},\n",
    "    {'Weather': 'Overcast', 'Temperature': 'Hot', 'Humidity': 'High', 'Windy': False, 'play': 'Yes'},\n",
    "    {'Weather': 'Sunny', 'Temperature': 'Mild', 'Humidity': 'High', 'Windy': False, 'play': 'Yes'},\n",
    "    {'Weather': 'Sunny', 'Temperature': 'Cool', 'Humidity': 'Normal', 'Windy': False, 'play': 'Yes'},\n",
    "    {'Weather': 'Sunny', 'Temperature': 'Cool', 'Humidity': 'Normal', 'Windy': True, 'play': 'No'},\n",
    "    {'Weather': 'Overcast', 'Temperature': 'Cool', 'Humidity': 'Normal', 'Windy': True, 'play': 'Yes'},\n",
    "    {'Weather': 'Rainy', 'Temperature': 'Mild', 'Humidity': 'High', 'Windy': False, 'play': 'No'},\n",
    "    {'Weather': 'Rainy', 'Temperature': 'Cool', 'Humidity': 'Normal', 'Windy': False, 'play': 'Yes'},\n",
    "    {'Weather': 'Sunny', 'Temperature': 'Mild', 'Humidity': 'Normal', 'Windy': False, 'play': 'Yes'},\n",
    "    {'Weather': 'Rainy', 'Temperature': 'Mild', 'Humidity': 'Normal', 'Windy': True, 'play': 'Yes'},\n",
    "    {'Weather': 'Overcast', 'Temperature': 'Mild', 'Humidity': 'High', 'Windy': True, 'play': 'Yes'},\n",
    "    {'Weather': 'Overcast', 'Temperature': 'Hot', 'Humidity': 'Normal', 'Windy': False, 'play': 'Yes'},\n",
    "    {'Weather': 'Sunny', 'Temperature': 'Mild', 'Humidity': 'High', 'Windy': True, 'play': 'No'}\n",
    "]\n",
    "\n",
    "# Create the DataFrame\n",
    "df = pd.DataFrame(data)\n",
    "\n",
    "# Display the DataFrame\n",
    "print(df)\n"
   ]
  },
  {
   "cell_type": "code",
   "execution_count": 38,
   "metadata": {},
   "outputs": [
    {
     "name": "stdout",
     "output_type": "stream",
     "text": [
      "p_yes:  0.6428571428571429\n",
      "p_no: 0.35714285714285715\n"
     ]
    }
   ],
   "source": [
    "# “Sunny,” “Hot,” “High Humidity,” and “Not Windy”)\n",
    "\n",
    "n = len(df)\n",
    "p_yes = len(df[df['play']=='Yes'])/n\n",
    "p_no = len(df[df['play']=='No'])/n\n",
    "\n",
    "print('p_yes: ', p_yes)\n",
    "print('p_no:', p_no)\n"
   ]
  },
  {
   "cell_type": "code",
   "execution_count": null,
   "metadata": {},
   "outputs": [],
   "source": []
  },
  {
   "cell_type": "code",
   "execution_count": 39,
   "metadata": {},
   "outputs": [
    {
     "name": "stdout",
     "output_type": "stream",
     "text": [
      "eg | yes:  0.016460905349794237\n",
      "eg | yes:  0.051200000000000016\n"
     ]
    }
   ],
   "source": [
    "#p_yes_given_eg = p_eg_given_yes * p_yes\n",
    "# p_eg_given_yes = p_feat1_yes*p_feat2_yes*...\n",
    "#posterior = (likelihood * prior) / \n",
    "\n",
    "example = {'Weather': 'Sunny', 'Temperature':'Hot', 'Humidity': 'High', 'Windy':'False'}\n",
    "\n",
    "def likelihood(featname, featval, targetval):\n",
    "    cls_data = df[df['play']==targetval]\n",
    "    n = len(cls_data[cls_data[featname]==featval])\n",
    "    return n / len(cls_data)\n",
    "\n",
    "p_sunny_yes = likelihood('Weather', 'Sunny', 'Yes')\n",
    "p_Temperature_yes = likelihood('Temperature', 'Hot', 'Yes')\n",
    "p_Humidity_yes = likelihood('Humidity', 'High', 'Yes')\n",
    "p_notWindy_yes = likelihood('Windy', False, 'Yes')\n",
    "\n",
    "p_eg_yes = p_sunny_yes * p_Temperature_yes * p_Humidity_yes * p_notWindy_yes\n",
    "print('eg | yes: ', p_eg_yes)\n",
    "\n",
    "\n",
    "p_sunny_No = likelihood('Weather', 'Sunny', 'No')\n",
    "p_Temperature_No = likelihood('Temperature', 'Hot', 'No')\n",
    "p_Humidity_No = likelihood('Humidity', 'High', 'No')\n",
    "p_notWindy_No = likelihood('Windy', False, 'No')\n",
    "\n",
    "p_eg_No = p_sunny_No * p_Temperature_No * p_Humidity_No * p_notWindy_No\n",
    "print('eg | yes: ', p_eg_No)\n"
   ]
  },
  {
   "cell_type": "code",
   "execution_count": 40,
   "metadata": {},
   "outputs": [
    {
     "name": "stdout",
     "output_type": "stream",
     "text": [
      "p_yes_eg 0.010582010582010581\n",
      "p_no_eg 0.01828571428571429\n"
     ]
    }
   ],
   "source": [
    "p_yes_eg = p_eg_yes * p_yes\n",
    "p_no_eg = p_eg_No * p_no\n",
    "print('p_yes_eg', p_yes_eg)\n",
    "print('p_no_eg', p_no_eg)"
   ]
  },
  {
   "cell_type": "markdown",
   "metadata": {},
   "source": [
    "redo above"
   ]
  },
  {
   "cell_type": "code",
   "execution_count": 1,
   "metadata": {},
   "outputs": [
    {
     "name": "stdout",
     "output_type": "stream",
     "text": [
      "     Weather Temperature Humidity  Windy play\n",
      "0      Rainy         Hot     High  False   No\n",
      "1      Rainy         Hot     High   True   No\n",
      "2   Overcast         Hot     High  False  Yes\n",
      "3      Sunny        Mild     High  False  Yes\n",
      "4      Sunny        Cool   Normal  False  Yes\n",
      "5      Sunny        Cool   Normal   True   No\n",
      "6   Overcast        Cool   Normal   True  Yes\n",
      "7      Rainy        Mild     High  False   No\n",
      "8      Rainy        Cool   Normal  False  Yes\n",
      "9      Sunny        Mild   Normal  False  Yes\n",
      "10     Rainy        Mild   Normal   True  Yes\n",
      "11  Overcast        Mild     High   True  Yes\n",
      "12  Overcast         Hot   Normal  False  Yes\n",
      "13     Sunny        Mild     High   True   No\n"
     ]
    }
   ],
   "source": [
    "import pandas as pd\n",
    "\n",
    "# Define the data as a list of dictionaries\n",
    "data = [\n",
    "    {'Weather': 'Rainy', 'Temperature': 'Hot', 'Humidity': 'High', 'Windy': False, 'play': 'No'},\n",
    "    {'Weather': 'Rainy', 'Temperature': 'Hot', 'Humidity': 'High', 'Windy': True, 'play': 'No'},\n",
    "    {'Weather': 'Overcast', 'Temperature': 'Hot', 'Humidity': 'High', 'Windy': False, 'play': 'Yes'},\n",
    "    {'Weather': 'Sunny', 'Temperature': 'Mild', 'Humidity': 'High', 'Windy': False, 'play': 'Yes'},\n",
    "    {'Weather': 'Sunny', 'Temperature': 'Cool', 'Humidity': 'Normal', 'Windy': False, 'play': 'Yes'},\n",
    "    {'Weather': 'Sunny', 'Temperature': 'Cool', 'Humidity': 'Normal', 'Windy': True, 'play': 'No'},\n",
    "    {'Weather': 'Overcast', 'Temperature': 'Cool', 'Humidity': 'Normal', 'Windy': True, 'play': 'Yes'},\n",
    "    {'Weather': 'Rainy', 'Temperature': 'Mild', 'Humidity': 'High', 'Windy': False, 'play': 'No'},\n",
    "    {'Weather': 'Rainy', 'Temperature': 'Cool', 'Humidity': 'Normal', 'Windy': False, 'play': 'Yes'},\n",
    "    {'Weather': 'Sunny', 'Temperature': 'Mild', 'Humidity': 'Normal', 'Windy': False, 'play': 'Yes'},\n",
    "    {'Weather': 'Rainy', 'Temperature': 'Mild', 'Humidity': 'Normal', 'Windy': True, 'play': 'Yes'},\n",
    "    {'Weather': 'Overcast', 'Temperature': 'Mild', 'Humidity': 'High', 'Windy': True, 'play': 'Yes'},\n",
    "    {'Weather': 'Overcast', 'Temperature': 'Hot', 'Humidity': 'Normal', 'Windy': False, 'play': 'Yes'},\n",
    "    {'Weather': 'Sunny', 'Temperature': 'Mild', 'Humidity': 'High', 'Windy': True, 'play': 'No'}\n",
    "]\n",
    "\n",
    "# Create the DataFrame\n",
    "df = pd.DataFrame(data)\n",
    "\n",
    "# Display the DataFrame\n",
    "print(df)"
   ]
  },
  {
   "cell_type": "code",
   "execution_count": 4,
   "metadata": {},
   "outputs": [
    {
     "name": "stdout",
     "output_type": "stream",
     "text": [
      "0.6428571428571429 0.35714285714285715\n"
     ]
    }
   ],
   "source": [
    "n = df.shape[0]\n",
    "p_yes = len(df[df[\"play\"]=='Yes'])/n\n",
    "p_no = len(df[df[\"play\"] == 'No'])/n\n",
    "print(p_yes, p_no)"
   ]
  },
  {
   "cell_type": "code",
   "execution_count": 7,
   "metadata": {},
   "outputs": [
    {
     "name": "stdout",
     "output_type": "stream",
     "text": [
      "0.3665689149560117 0.6334310850439884\n"
     ]
    }
   ],
   "source": [
    "def likelihood(featn, featv, target_cls):\n",
    "    cls_data = df[df[\"play\"] == target_cls]\n",
    "    n = cls_data[cls_data[featn] == featv]\n",
    "    return len(n) / len(cls_data)\n",
    "\n",
    "# Example input\n",
    "example = {'Weather': 'Sunny', 'Temperature': 'Hot', 'Humidity': 'High', 'Windy': False}\n",
    "\n",
    "# Calculate priors\n",
    "p_yes = len(df[df[\"play\"] == \"Yes\"]) / len(df)\n",
    "p_no = len(df[df[\"play\"] == \"No\"]) / len(df)\n",
    "\n",
    "# Calculate likelihoods given \"Yes\"\n",
    "p_sunny_y = likelihood('Weather', 'Sunny', 'Yes')\n",
    "p_hot_y = likelihood('Temperature', 'Hot', 'Yes')\n",
    "p_humidity_y = likelihood('Humidity', 'High', 'Yes')\n",
    "p_windy_y = likelihood('Windy', False, 'Yes')\n",
    "p_eg_yes = p_sunny_y * p_hot_y * p_humidity_y * p_windy_y\n",
    "p_yes_eg = p_eg_yes * p_yes\n",
    "\n",
    "# Calculate likelihoods given \"No\"\n",
    "p_sunny_no = likelihood('Weather', 'Sunny', 'No')\n",
    "p_hot_no = likelihood('Temperature', 'Hot', 'No')\n",
    "p_humidity_no = likelihood('Humidity', 'High', 'No')\n",
    "p_windy_no = likelihood('Windy', False, 'No')\n",
    "p_eg_no = p_sunny_no * p_hot_no * p_humidity_no * p_windy_no\n",
    "p_no_eg = p_eg_no * p_no\n",
    "\n",
    "# Normalize probabilities\n",
    "normalization_factor = p_yes_eg + p_no_eg\n",
    "p_yes_eg /= normalization_factor\n",
    "p_no_eg /= normalization_factor\n",
    "\n",
    "print(p_yes_eg, p_no_eg)\n"
   ]
  },
  {
   "cell_type": "code",
   "execution_count": null,
   "metadata": {},
   "outputs": [],
   "source": []
  },
  {
   "cell_type": "code",
   "execution_count": null,
   "metadata": {},
   "outputs": [],
   "source": []
  },
  {
   "cell_type": "code",
   "execution_count": null,
   "metadata": {},
   "outputs": [],
   "source": []
  },
  {
   "cell_type": "markdown",
   "metadata": {},
   "source": [
    "#### text classfication using naive bayes"
   ]
  },
  {
   "cell_type": "code",
   "execution_count": 73,
   "metadata": {},
   "outputs": [],
   "source": [
    "import re\n",
    "from collections import defaultdict\n",
    "\n",
    "# Sample data\n",
    "documents = [\n",
    "    {\"content\": \"Nvidia GPU is the best in the world.\", \"class\": \"computer graphics\"},\n",
    "    {\"content\": \"Nvidia is giving tough competition to AMD.\", \"class\": \"computer graphics\"},\n",
    "    {\"content\": \"We were running our application with GTX 1050 (High-end GPU) still it didn't work then we realized the problem was with the OS.\", \"class\": \"computer graphics\"},\n",
    "    {\"content\": \"GPU, Ganpat Pandey University, is located in Maharashtra.\", \"class\": \"not computer graphics\"},\n",
    "]\n",
    "\n",
    "test_document = \"Please buy GPU from our store.\""
   ]
  },
  {
   "cell_type": "code",
   "execution_count": 74,
   "metadata": {},
   "outputs": [
    {
     "name": "stdout",
     "output_type": "stream",
     "text": [
      "class: counts -  {'computer graphics': 3, 'not computer graphics': 1}\n",
      "priors:  {'computer graphics': 0.75, 'not computer graphics': 0.25}\n"
     ]
    }
   ],
   "source": [
    "def preprocess(text):\n",
    "    text = text.lower()\n",
    "    text = re.sub(r'[^a-z\\s]', '', text)\n",
    "    words = text.split()\n",
    "    return words\n",
    "\n",
    "class_counts = {}\n",
    "total_docs = len(documents)\n",
    "\n",
    "for doc in documents:\n",
    "    if doc['class'] not in class_counts:\n",
    "        class_counts[doc[\"class\"]] = 0\n",
    "    class_counts[doc[\"class\"]] += 1\n",
    "\n",
    "print(\"class: counts - \",class_counts)\n",
    "\n",
    "priors = {}\n",
    "for cls, clscnt in class_counts.items():\n",
    "    priors[cls] = clscnt/total_docs\n",
    "\n",
    "print('priors: ',priors)\n",
    "\n",
    "#now we have the prior probailty of each class\n",
    "\n"
   ]
  },
  {
   "cell_type": "code",
   "execution_count": 75,
   "metadata": {},
   "outputs": [
    {
     "name": "stdout",
     "output_type": "stream",
     "text": [
      "words count:  defaultdict(<function <lambda> at 0x00000249A99A2B60>, {'computer graphics': defaultdict(<class 'int'>, {'nvidia': 2, 'gpu': 2, 'is': 2, 'the': 4, 'best': 1, 'in': 1, 'world': 1, 'giving': 1, 'tough': 1, 'competition': 1, 'to': 1, 'amd': 1, 'we': 2, 'were': 1, 'running': 1, 'our': 1, 'application': 1, 'with': 2, 'gtx': 1, 'highend': 1, 'still': 1, 'it': 1, 'didnt': 1, 'work': 1, 'then': 1, 'realized': 1, 'problem': 1, 'was': 1, 'os': 1}), 'not computer graphics': defaultdict(<class 'int'>, {'gpu': 1, 'ganpat': 1, 'pandey': 1, 'university': 1, 'is': 1, 'located': 1, 'in': 1, 'maharashtra': 1})})\n"
     ]
    }
   ],
   "source": [
    "word_counts = defaultdict(lambda: defaultdict(int))\n",
    "total_words_per_class = defaultdict(int) #INITIALIZES  NEW KEY WITH INT DATA TYPE FOR VALUE\n",
    "\n",
    "for doc in documents:\n",
    "    words = preprocess(doc[\"content\"])\n",
    "    cls = doc[\"class\"]\n",
    "\n",
    "    for word in words:\n",
    "        word_counts[cls][word]+=1\n",
    "        total_words_per_class[cls]+=1\n",
    "    \n",
    "print(\"words count: \", word_counts)\n",
    "\n",
    "likelihoods = defaultdict(lambda: defaultdict(float))\n",
    "vocab = set(word for cls in word_counts for word in word_counts[cls])\n",
    "vocab_size = len(vocab)\n",
    "alpha = 1\n",
    "\n",
    "for cls in word_counts:\n",
    "    for word in word_counts[cls]:\n",
    "        likelihoods[word][cls] = (word_counts[cls][word] + alpha) / (total_words_per_class[cls] + alpha * len(vocab))\n",
    "\n",
    "\n"
   ]
  },
  {
   "cell_type": "code",
   "execution_count": 77,
   "metadata": {},
   "outputs": [
    {
     "name": "stdout",
     "output_type": "stream",
     "text": [
      "Predicted class: computer graphics\n"
     ]
    }
   ],
   "source": [
    "def predict_class(test_doc):\n",
    "    words = preprocess(test_doc)\n",
    "    class_scores = {}\n",
    "\n",
    "    for cls in priors:\n",
    "        # Initialize score with the log of the prior probability\n",
    "        class_scores[cls] = priors[cls] # p (class | sentence) = p(sentence|class) * p(class)\n",
    "\n",
    "        # Multiply by likelihoods of each word in the test document\n",
    "        for word in words:\n",
    "            if word in vocab:\n",
    "                class_scores[cls] *= likelihoods[cls][word]\n",
    "            else:\n",
    "                continue\n",
    "                # Handle words not seen in training data with minimal impact\n",
    "                class_scores[cls] *= (1 / (total_words_per_class[cls] + alpha * vocab_size))\n",
    "\n",
    "    # Choose the class with the highest score\n",
    "    predicted_class = max(class_scores, key=class_scores.get)\n",
    "    return predicted_class\n",
    "\n",
    "\n",
    "predicted_class = predict_class(test_document)\n",
    "print(f\"Predicted class: {predicted_class}\")\n"
   ]
  },
  {
   "cell_type": "markdown",
   "metadata": {},
   "source": [
    "retry text classification"
   ]
  },
  {
   "cell_type": "code",
   "execution_count": 8,
   "metadata": {},
   "outputs": [],
   "source": [
    "import re\n",
    "from collections import defaultdict\n",
    "\n",
    "# Sample data\n",
    "documents = [\n",
    "    {\"content\": \"Nvidia GPU is the best in the world.\", \"class\": \"computer graphics\"},\n",
    "    {\"content\": \"Nvidia is giving tough competition to AMD.\", \"class\": \"computer graphics\"},\n",
    "    {\"content\": \"We were running our application with GTX 1050 (High-end GPU) still it didn't work then we realized the problem was with the OS.\", \"class\": \"computer graphics\"},\n",
    "    {\"content\": \"GPU, Ganpat Pandey University, is located in Maharashtra.\", \"class\": \"not computer graphics\"},\n",
    "]\n",
    "\n",
    "test_document = \"Please buy GPU from our store.\""
   ]
  },
  {
   "cell_type": "code",
   "execution_count": 11,
   "metadata": {},
   "outputs": [
    {
     "name": "stdout",
     "output_type": "stream",
     "text": [
      "{'computer graphics': 3, 'not computer graphics': 1}\n",
      "{'computer graphics': 0.75, 'not computer graphics': 0.25}\n"
     ]
    }
   ],
   "source": [
    "class_cnts = {}\n",
    "n = len(documents)\n",
    "\n",
    "for doc in documents:\n",
    "    cls = doc[\"class\"]\n",
    "    if cls not in class_cnts:\n",
    "        class_cnts[cls]=0\n",
    "    class_cnts[cls]+=1\n",
    "\n",
    "print(class_cnts)\n",
    "priors = {}\n",
    "\n",
    "for cls, clscnt in class_cnts.items():\n",
    "    priors[cls] = clscnt/n\n",
    "\n",
    "print(priors)\n",
    "p_cg = priors['computer graphics']\n",
    "p_not_cg = priors['not computer graphics']"
   ]
  },
  {
   "cell_type": "code",
   "execution_count": 14,
   "metadata": {},
   "outputs": [
    {
     "name": "stdout",
     "output_type": "stream",
     "text": [
      "defaultdict(<function <lambda> at 0x000001EE15216CA0>, {'computer graphics': defaultdict(<class 'int'>, {'nvidia': 2, 'gpu': 2, 'is': 2, 'the': 4, 'best': 1, 'in': 1, 'world': 1, 'giving': 1, 'tough': 1, 'competition': 1, 'to': 1, 'amd': 1, 'we': 2, 'were': 1, 'running': 1, 'our': 1, 'application': 1, 'with': 2, 'gtx': 1, 'highend': 1, 'still': 1, 'it': 1, 'didnt': 1, 'work': 1, 'then': 1, 'realized': 1, 'problem': 1, 'was': 1, 'os': 1}), 'not computer graphics': defaultdict(<class 'int'>, {'gpu': 1, 'ganpat': 1, 'pandey': 1, 'university': 1, 'is': 1, 'located': 1, 'in': 1, 'maharashtra': 1})})\n"
     ]
    }
   ],
   "source": [
    "word_counts = defaultdict(lambda: defaultdict(int))\n",
    "total_words_per_class = defaultdict(int)\n",
    "vocab = set()\n",
    "\n",
    "def preprocess(text):\n",
    "    text = text.lower()\n",
    "    text = re.sub(r'[^a-z\\s]', '', text) #r'[^a-z\\s]'\n",
    "    return text.split()\n",
    "\n",
    "for doc in documents:\n",
    "    words = preprocess(doc[\"content\"])\n",
    "    docCls = doc[\"class\"]\n",
    "    for word in words:\n",
    "        vocab.add(word)\n",
    "        word_counts[docCls][word]+=1\n",
    "        total_words_per_class[docCls] += 1\n",
    "    \n",
    "print(word_counts) # now we have cls -> words\n",
    "\n"
   ]
  },
  {
   "cell_type": "code",
   "execution_count": 21,
   "metadata": {},
   "outputs": [
    {
     "name": "stdout",
     "output_type": "stream",
     "text": [
      "defaultdict(<function <lambda> at 0x000001EE15287F60>, {'nvidia': defaultdict(<class 'float'>, {'computer graphics': 0.04225352112676056, 'not computer graphics': 0.023809523809523808}), 'world': defaultdict(<class 'float'>, {'computer graphics': 0.028169014084507043, 'not computer graphics': 0.023809523809523808}), 'giving': defaultdict(<class 'float'>, {'computer graphics': 0.028169014084507043, 'not computer graphics': 0.023809523809523808}), 'to': defaultdict(<class 'float'>, {'computer graphics': 0.028169014084507043, 'not computer graphics': 0.023809523809523808}), 'gtx': defaultdict(<class 'float'>, {'computer graphics': 0.028169014084507043, 'not computer graphics': 0.023809523809523808}), 'highend': defaultdict(<class 'float'>, {'computer graphics': 0.028169014084507043, 'not computer graphics': 0.023809523809523808}), 'running': defaultdict(<class 'float'>, {'computer graphics': 0.028169014084507043, 'not computer graphics': 0.023809523809523808}), 'gpu': defaultdict(<class 'float'>, {'computer graphics': 0.04225352112676056, 'not computer graphics': 0.047619047619047616}), 'work': defaultdict(<class 'float'>, {'computer graphics': 0.028169014084507043, 'not computer graphics': 0.023809523809523808}), 'then': defaultdict(<class 'float'>, {'computer graphics': 0.028169014084507043, 'not computer graphics': 0.023809523809523808}), 'was': defaultdict(<class 'float'>, {'computer graphics': 0.028169014084507043, 'not computer graphics': 0.023809523809523808}), 'still': defaultdict(<class 'float'>, {'computer graphics': 0.028169014084507043, 'not computer graphics': 0.023809523809523808}), 'in': defaultdict(<class 'float'>, {'computer graphics': 0.028169014084507043, 'not computer graphics': 0.047619047619047616}), 'university': defaultdict(<class 'float'>, {'computer graphics': 0.014084507042253521, 'not computer graphics': 0.047619047619047616}), 'maharashtra': defaultdict(<class 'float'>, {'computer graphics': 0.014084507042253521, 'not computer graphics': 0.047619047619047616}), 'the': defaultdict(<class 'float'>, {'computer graphics': 0.07042253521126761, 'not computer graphics': 0.023809523809523808}), 'with': defaultdict(<class 'float'>, {'computer graphics': 0.04225352112676056, 'not computer graphics': 0.023809523809523808}), 'it': defaultdict(<class 'float'>, {'computer graphics': 0.028169014084507043, 'not computer graphics': 0.023809523809523808}), 'competition': defaultdict(<class 'float'>, {'computer graphics': 0.028169014084507043, 'not computer graphics': 0.023809523809523808}), 'didnt': defaultdict(<class 'float'>, {'computer graphics': 0.028169014084507043, 'not computer graphics': 0.023809523809523808}), 'our': defaultdict(<class 'float'>, {'computer graphics': 0.028169014084507043, 'not computer graphics': 0.023809523809523808}), 'we': defaultdict(<class 'float'>, {'computer graphics': 0.04225352112676056, 'not computer graphics': 0.023809523809523808}), 'pandey': defaultdict(<class 'float'>, {'computer graphics': 0.014084507042253521, 'not computer graphics': 0.047619047619047616}), 'is': defaultdict(<class 'float'>, {'computer graphics': 0.04225352112676056, 'not computer graphics': 0.047619047619047616}), 'best': defaultdict(<class 'float'>, {'computer graphics': 0.028169014084507043, 'not computer graphics': 0.023809523809523808}), 'application': defaultdict(<class 'float'>, {'computer graphics': 0.028169014084507043, 'not computer graphics': 0.023809523809523808}), 'amd': defaultdict(<class 'float'>, {'computer graphics': 0.028169014084507043, 'not computer graphics': 0.023809523809523808}), 'ganpat': defaultdict(<class 'float'>, {'computer graphics': 0.014084507042253521, 'not computer graphics': 0.047619047619047616}), 'problem': defaultdict(<class 'float'>, {'computer graphics': 0.028169014084507043, 'not computer graphics': 0.023809523809523808}), 'located': defaultdict(<class 'float'>, {'computer graphics': 0.014084507042253521, 'not computer graphics': 0.047619047619047616}), 'tough': defaultdict(<class 'float'>, {'computer graphics': 0.028169014084507043, 'not computer graphics': 0.023809523809523808}), 'were': defaultdict(<class 'float'>, {'computer graphics': 0.028169014084507043, 'not computer graphics': 0.023809523809523808}), 'realized': defaultdict(<class 'float'>, {'computer graphics': 0.028169014084507043, 'not computer graphics': 0.023809523809523808}), 'os': defaultdict(<class 'float'>, {'computer graphics': 0.028169014084507043, 'not computer graphics': 0.023809523809523808})})\n"
     ]
    }
   ],
   "source": [
    "word_given_cls = defaultdict(lambda: defaultdict(float))\n",
    "alpha = 1\n",
    "v = len(vocab)\n",
    "\n",
    "for cls in word_counts:\n",
    "    for word in vocab:\n",
    "        word_given_cls[word][cls] = (word_counts[cls][word] + alpha) / (total_words_per_class[cls] + v)\n",
    "\n",
    "\n",
    "print(word_given_cls)"
   ]
  },
  {
   "cell_type": "code",
   "execution_count": 26,
   "metadata": {},
   "outputs": [
    {
     "name": "stdout",
     "output_type": "stream",
     "text": [
      "defaultdict(<function <lambda> at 0x000001EE152165C0>, {'nvidia': defaultdict(<class 'float'>, {'computer graphics': 0.04225352112676056, 'not computer graphics': 0.023809523809523808}), 'world': defaultdict(<class 'float'>, {'computer graphics': 0.028169014084507043, 'not computer graphics': 0.023809523809523808}), 'giving': defaultdict(<class 'float'>, {'computer graphics': 0.028169014084507043, 'not computer graphics': 0.023809523809523808}), 'to': defaultdict(<class 'float'>, {'computer graphics': 0.028169014084507043, 'not computer graphics': 0.023809523809523808}), 'gtx': defaultdict(<class 'float'>, {'computer graphics': 0.028169014084507043, 'not computer graphics': 0.023809523809523808}), 'highend': defaultdict(<class 'float'>, {'computer graphics': 0.028169014084507043, 'not computer graphics': 0.023809523809523808}), 'running': defaultdict(<class 'float'>, {'computer graphics': 0.028169014084507043, 'not computer graphics': 0.023809523809523808}), 'gpu': defaultdict(<class 'float'>, {'computer graphics': 0.04225352112676056, 'not computer graphics': 0.047619047619047616}), 'work': defaultdict(<class 'float'>, {'computer graphics': 0.028169014084507043, 'not computer graphics': 0.023809523809523808}), 'then': defaultdict(<class 'float'>, {'computer graphics': 0.028169014084507043, 'not computer graphics': 0.023809523809523808}), 'was': defaultdict(<class 'float'>, {'computer graphics': 0.028169014084507043, 'not computer graphics': 0.023809523809523808}), 'still': defaultdict(<class 'float'>, {'computer graphics': 0.028169014084507043, 'not computer graphics': 0.023809523809523808}), 'in': defaultdict(<class 'float'>, {'computer graphics': 0.028169014084507043, 'not computer graphics': 0.047619047619047616}), 'university': defaultdict(<class 'float'>, {'computer graphics': 0.014084507042253521, 'not computer graphics': 0.047619047619047616}), 'maharashtra': defaultdict(<class 'float'>, {'computer graphics': 0.014084507042253521, 'not computer graphics': 0.047619047619047616}), 'the': defaultdict(<class 'float'>, {'computer graphics': 0.07042253521126761, 'not computer graphics': 0.023809523809523808}), 'with': defaultdict(<class 'float'>, {'computer graphics': 0.04225352112676056, 'not computer graphics': 0.023809523809523808}), 'it': defaultdict(<class 'float'>, {'computer graphics': 0.028169014084507043, 'not computer graphics': 0.023809523809523808}), 'competition': defaultdict(<class 'float'>, {'computer graphics': 0.028169014084507043, 'not computer graphics': 0.023809523809523808}), 'didnt': defaultdict(<class 'float'>, {'computer graphics': 0.028169014084507043, 'not computer graphics': 0.023809523809523808}), 'our': defaultdict(<class 'float'>, {'computer graphics': 0.028169014084507043, 'not computer graphics': 0.023809523809523808}), 'we': defaultdict(<class 'float'>, {'computer graphics': 0.04225352112676056, 'not computer graphics': 0.023809523809523808}), 'pandey': defaultdict(<class 'float'>, {'computer graphics': 0.014084507042253521, 'not computer graphics': 0.047619047619047616}), 'is': defaultdict(<class 'float'>, {'computer graphics': 0.04225352112676056, 'not computer graphics': 0.047619047619047616}), 'best': defaultdict(<class 'float'>, {'computer graphics': 0.028169014084507043, 'not computer graphics': 0.023809523809523808}), 'application': defaultdict(<class 'float'>, {'computer graphics': 0.028169014084507043, 'not computer graphics': 0.023809523809523808}), 'amd': defaultdict(<class 'float'>, {'computer graphics': 0.028169014084507043, 'not computer graphics': 0.023809523809523808}), 'ganpat': defaultdict(<class 'float'>, {'computer graphics': 0.014084507042253521, 'not computer graphics': 0.047619047619047616}), 'problem': defaultdict(<class 'float'>, {'computer graphics': 0.028169014084507043, 'not computer graphics': 0.023809523809523808}), 'located': defaultdict(<class 'float'>, {'computer graphics': 0.014084507042253521, 'not computer graphics': 0.047619047619047616}), 'tough': defaultdict(<class 'float'>, {'computer graphics': 0.028169014084507043, 'not computer graphics': 0.023809523809523808}), 'were': defaultdict(<class 'float'>, {'computer graphics': 0.028169014084507043, 'not computer graphics': 0.023809523809523808}), 'realized': defaultdict(<class 'float'>, {'computer graphics': 0.028169014084507043, 'not computer graphics': 0.023809523809523808}), 'os': defaultdict(<class 'float'>, {'computer graphics': 0.028169014084507043, 'not computer graphics': 0.023809523809523808})})\n",
      "{'computer graphics': 0.0008926800238048007, 'not computer graphics': 0.00028344671201814054}\n"
     ]
    }
   ],
   "source": [
    "    print(word_given_cls)\n",
    "\n",
    "    def compute_class(test):\n",
    "        words = preprocess(test)\n",
    "\n",
    "        both_cls = {}\n",
    "\n",
    "        for cls in priors:\n",
    "            both_cls[cls] = priors[cls]\n",
    "            for word in words:\n",
    "                if word in vocab:\n",
    "                    both_cls[cls] *= word_given_cls[word][cls]\n",
    "                else:\n",
    "                    continue\n",
    "        print(both_cls)\n",
    "        \n",
    "    test = \"Please buy GPU from our store\"\n",
    "\n",
    "    compute_class(test)\n",
    "\n",
    "\n"
   ]
  },
  {
   "cell_type": "code",
   "execution_count": 25,
   "metadata": {},
   "outputs": [
    {
     "name": "stdout",
     "output_type": "stream",
     "text": [
      "Priors: {'computer graphics': 0.75, 'not computer graphics': 0.25}\n",
      "Word Counts per Class: defaultdict(<function <lambda> at 0x000001EE15216160>, {'computer graphics': defaultdict(<class 'int'>, {'nvidia': 2, 'gpu': 2, 'is': 2, 'the': 4, 'best': 1, 'in': 1, 'world': 1, 'giving': 1, 'tough': 1, 'competition': 1, 'to': 1, 'amd': 1, 'we': 2, 'were': 1, 'running': 1, 'our': 1, 'application': 1, 'with': 2, 'gtx': 1, 'highend': 1, 'still': 1, 'it': 1, 'didnt': 1, 'work': 1, 'then': 1, 'realized': 1, 'problem': 1, 'was': 1, 'os': 1}), 'not computer graphics': defaultdict(<class 'int'>, {'gpu': 1, 'ganpat': 1, 'pandey': 1, 'university': 1, 'is': 1, 'located': 1, 'in': 1, 'maharashtra': 1})})\n",
      "Word Given Class Probabilities: defaultdict(<function <lambda> at 0x000001EE152165C0>, {'nvidia': defaultdict(<class 'float'>, {'computer graphics': 0.04225352112676056, 'not computer graphics': 0.023809523809523808}), 'world': defaultdict(<class 'float'>, {'computer graphics': 0.028169014084507043, 'not computer graphics': 0.023809523809523808}), 'giving': defaultdict(<class 'float'>, {'computer graphics': 0.028169014084507043, 'not computer graphics': 0.023809523809523808}), 'to': defaultdict(<class 'float'>, {'computer graphics': 0.028169014084507043, 'not computer graphics': 0.023809523809523808}), 'gtx': defaultdict(<class 'float'>, {'computer graphics': 0.028169014084507043, 'not computer graphics': 0.023809523809523808}), 'highend': defaultdict(<class 'float'>, {'computer graphics': 0.028169014084507043, 'not computer graphics': 0.023809523809523808}), 'running': defaultdict(<class 'float'>, {'computer graphics': 0.028169014084507043, 'not computer graphics': 0.023809523809523808}), 'gpu': defaultdict(<class 'float'>, {'computer graphics': 0.04225352112676056, 'not computer graphics': 0.047619047619047616}), 'work': defaultdict(<class 'float'>, {'computer graphics': 0.028169014084507043, 'not computer graphics': 0.023809523809523808}), 'then': defaultdict(<class 'float'>, {'computer graphics': 0.028169014084507043, 'not computer graphics': 0.023809523809523808}), 'was': defaultdict(<class 'float'>, {'computer graphics': 0.028169014084507043, 'not computer graphics': 0.023809523809523808}), 'still': defaultdict(<class 'float'>, {'computer graphics': 0.028169014084507043, 'not computer graphics': 0.023809523809523808}), 'in': defaultdict(<class 'float'>, {'computer graphics': 0.028169014084507043, 'not computer graphics': 0.047619047619047616}), 'university': defaultdict(<class 'float'>, {'computer graphics': 0.014084507042253521, 'not computer graphics': 0.047619047619047616}), 'maharashtra': defaultdict(<class 'float'>, {'computer graphics': 0.014084507042253521, 'not computer graphics': 0.047619047619047616}), 'the': defaultdict(<class 'float'>, {'computer graphics': 0.07042253521126761, 'not computer graphics': 0.023809523809523808}), 'with': defaultdict(<class 'float'>, {'computer graphics': 0.04225352112676056, 'not computer graphics': 0.023809523809523808}), 'it': defaultdict(<class 'float'>, {'computer graphics': 0.028169014084507043, 'not computer graphics': 0.023809523809523808}), 'competition': defaultdict(<class 'float'>, {'computer graphics': 0.028169014084507043, 'not computer graphics': 0.023809523809523808}), 'didnt': defaultdict(<class 'float'>, {'computer graphics': 0.028169014084507043, 'not computer graphics': 0.023809523809523808}), 'our': defaultdict(<class 'float'>, {'computer graphics': 0.028169014084507043, 'not computer graphics': 0.023809523809523808}), 'we': defaultdict(<class 'float'>, {'computer graphics': 0.04225352112676056, 'not computer graphics': 0.023809523809523808}), 'pandey': defaultdict(<class 'float'>, {'computer graphics': 0.014084507042253521, 'not computer graphics': 0.047619047619047616}), 'is': defaultdict(<class 'float'>, {'computer graphics': 0.04225352112676056, 'not computer graphics': 0.047619047619047616}), 'best': defaultdict(<class 'float'>, {'computer graphics': 0.028169014084507043, 'not computer graphics': 0.023809523809523808}), 'application': defaultdict(<class 'float'>, {'computer graphics': 0.028169014084507043, 'not computer graphics': 0.023809523809523808}), 'amd': defaultdict(<class 'float'>, {'computer graphics': 0.028169014084507043, 'not computer graphics': 0.023809523809523808}), 'ganpat': defaultdict(<class 'float'>, {'computer graphics': 0.014084507042253521, 'not computer graphics': 0.047619047619047616}), 'problem': defaultdict(<class 'float'>, {'computer graphics': 0.028169014084507043, 'not computer graphics': 0.023809523809523808}), 'located': defaultdict(<class 'float'>, {'computer graphics': 0.014084507042253521, 'not computer graphics': 0.047619047619047616}), 'tough': defaultdict(<class 'float'>, {'computer graphics': 0.028169014084507043, 'not computer graphics': 0.023809523809523808}), 'were': defaultdict(<class 'float'>, {'computer graphics': 0.028169014084507043, 'not computer graphics': 0.023809523809523808}), 'realized': defaultdict(<class 'float'>, {'computer graphics': 0.028169014084507043, 'not computer graphics': 0.023809523809523808}), 'os': defaultdict(<class 'float'>, {'computer graphics': 0.028169014084507043, 'not computer graphics': 0.023809523809523808})})\n",
      "Class Probabilities: {'computer graphics': 3.512872776125282e-11, 'not computer graphics': 9.109074665974456e-11}\n",
      "Predicted Class: not computer graphics\n"
     ]
    }
   ],
   "source": []
  },
  {
   "cell_type": "code",
   "execution_count": 28,
   "metadata": {},
   "outputs": [
    {
     "name": "stdout",
     "output_type": "stream",
     "text": [
      "Priors: {'computer graphics': 0.75, 'not computer graphics': 0.25}\n",
      "------\n",
      "Word Counts per Class: defaultdict(<function <lambda> at 0x000001EE15DE0B80>, {'computer graphics': defaultdict(<class 'int'>, {'nvidia': 2, 'gpu': 2, 'is': 2, 'the': 4, 'best': 1, 'in': 1, 'world': 1, 'giving': 1, 'tough': 1, 'competition': 1, 'to': 1, 'amd': 1, 'we': 2, 'were': 1, 'running': 1, 'our': 1, 'application': 1, 'with': 2, 'gtx': 1, 'highend': 1, 'still': 1, 'it': 1, 'didnt': 1, 'work': 1, 'then': 1, 'realized': 1, 'problem': 1, 'was': 1, 'os': 1}), 'not computer graphics': defaultdict(<class 'int'>, {'gpu': 1, 'ganpat': 1, 'pandey': 1, 'university': 1, 'is': 1, 'located': 1, 'in': 1, 'maharashtra': 1})})\n",
      "------\n",
      "------\n",
      "Word Given Class Probabilities: defaultdict(<function <lambda> at 0x000001EE15DE3380>, {'nvidia': defaultdict(<class 'float'>, {'computer graphics': 0.04225352112676056, 'not computer graphics': 0.023809523809523808}), 'world': defaultdict(<class 'float'>, {'computer graphics': 0.028169014084507043, 'not computer graphics': 0.023809523809523808}), 'giving': defaultdict(<class 'float'>, {'computer graphics': 0.028169014084507043, 'not computer graphics': 0.023809523809523808}), 'to': defaultdict(<class 'float'>, {'computer graphics': 0.028169014084507043, 'not computer graphics': 0.023809523809523808}), 'gtx': defaultdict(<class 'float'>, {'computer graphics': 0.028169014084507043, 'not computer graphics': 0.023809523809523808}), 'highend': defaultdict(<class 'float'>, {'computer graphics': 0.028169014084507043, 'not computer graphics': 0.023809523809523808}), 'running': defaultdict(<class 'float'>, {'computer graphics': 0.028169014084507043, 'not computer graphics': 0.023809523809523808}), 'gpu': defaultdict(<class 'float'>, {'computer graphics': 0.04225352112676056, 'not computer graphics': 0.047619047619047616}), 'work': defaultdict(<class 'float'>, {'computer graphics': 0.028169014084507043, 'not computer graphics': 0.023809523809523808}), 'then': defaultdict(<class 'float'>, {'computer graphics': 0.028169014084507043, 'not computer graphics': 0.023809523809523808}), 'was': defaultdict(<class 'float'>, {'computer graphics': 0.028169014084507043, 'not computer graphics': 0.023809523809523808}), 'still': defaultdict(<class 'float'>, {'computer graphics': 0.028169014084507043, 'not computer graphics': 0.023809523809523808}), 'in': defaultdict(<class 'float'>, {'computer graphics': 0.028169014084507043, 'not computer graphics': 0.047619047619047616}), 'university': defaultdict(<class 'float'>, {'computer graphics': 0.014084507042253521, 'not computer graphics': 0.047619047619047616}), 'maharashtra': defaultdict(<class 'float'>, {'computer graphics': 0.014084507042253521, 'not computer graphics': 0.047619047619047616}), 'the': defaultdict(<class 'float'>, {'computer graphics': 0.07042253521126761, 'not computer graphics': 0.023809523809523808}), 'with': defaultdict(<class 'float'>, {'computer graphics': 0.04225352112676056, 'not computer graphics': 0.023809523809523808}), 'it': defaultdict(<class 'float'>, {'computer graphics': 0.028169014084507043, 'not computer graphics': 0.023809523809523808}), 'competition': defaultdict(<class 'float'>, {'computer graphics': 0.028169014084507043, 'not computer graphics': 0.023809523809523808}), 'didnt': defaultdict(<class 'float'>, {'computer graphics': 0.028169014084507043, 'not computer graphics': 0.023809523809523808}), 'our': defaultdict(<class 'float'>, {'computer graphics': 0.028169014084507043, 'not computer graphics': 0.023809523809523808}), 'we': defaultdict(<class 'float'>, {'computer graphics': 0.04225352112676056, 'not computer graphics': 0.023809523809523808}), 'pandey': defaultdict(<class 'float'>, {'computer graphics': 0.014084507042253521, 'not computer graphics': 0.047619047619047616}), 'is': defaultdict(<class 'float'>, {'computer graphics': 0.04225352112676056, 'not computer graphics': 0.047619047619047616}), 'best': defaultdict(<class 'float'>, {'computer graphics': 0.028169014084507043, 'not computer graphics': 0.023809523809523808}), 'application': defaultdict(<class 'float'>, {'computer graphics': 0.028169014084507043, 'not computer graphics': 0.023809523809523808}), 'amd': defaultdict(<class 'float'>, {'computer graphics': 0.028169014084507043, 'not computer graphics': 0.023809523809523808}), 'ganpat': defaultdict(<class 'float'>, {'computer graphics': 0.014084507042253521, 'not computer graphics': 0.047619047619047616}), 'problem': defaultdict(<class 'float'>, {'computer graphics': 0.028169014084507043, 'not computer graphics': 0.023809523809523808}), 'located': defaultdict(<class 'float'>, {'computer graphics': 0.014084507042253521, 'not computer graphics': 0.047619047619047616}), 'tough': defaultdict(<class 'float'>, {'computer graphics': 0.028169014084507043, 'not computer graphics': 0.023809523809523808}), 'were': defaultdict(<class 'float'>, {'computer graphics': 0.028169014084507043, 'not computer graphics': 0.023809523809523808}), 'realized': defaultdict(<class 'float'>, {'computer graphics': 0.028169014084507043, 'not computer graphics': 0.023809523809523808}), 'os': defaultdict(<class 'float'>, {'computer graphics': 0.028169014084507043, 'not computer graphics': 0.023809523809523808})})\n",
      "------\n",
      "------\n",
      "Class Probabilities: {'computer graphics': 3.512872776125282e-11, 'not computer graphics': 9.109074665974456e-11}\n",
      "------\n",
      "Predicted Class: not computer graphics\n"
     ]
    }
   ],
   "source": [
    "import re\n",
    "from collections import defaultdict\n",
    "\n",
    "# Sample data\n",
    "documents = [\n",
    "    {\"content\": \"Nvidia GPU is the best in the world.\", \"class\": \"computer graphics\"},\n",
    "    {\"content\": \"Nvidia is giving tough competition to AMD.\", \"class\": \"computer graphics\"},\n",
    "    {\"content\": \"We were running our application with GTX 1050 (High-end GPU) still it didn't work then we realized the problem was with the OS.\", \"class\": \"computer graphics\"},\n",
    "    {\"content\": \"GPU, Ganpat Pandey University, is located in Maharashtra.\", \"class\": \"not computer graphics\"},\n",
    "]\n",
    "\n",
    "test_document = \"Please buy GPU from our store.\"\n",
    "\n",
    "# Step 1: Calculate class counts and priors\n",
    "class_cnts = {}\n",
    "n = len(documents)\n",
    "\n",
    "for doc in documents:\n",
    "    cls = doc[\"class\"]\n",
    "    class_cnts[cls] = class_cnts.get(cls, 0) + 1\n",
    "\n",
    "priors = {cls: clscnt / n for cls, clscnt in class_cnts.items()}\n",
    "print(\"Priors:\", priors)\n",
    "\n",
    "# Step 2: Calculate word counts and total words per class\n",
    "word_counts = defaultdict(lambda: defaultdict(int))\n",
    "total_words_per_class = defaultdict(int)\n",
    "vocab = set()\n",
    "\n",
    "def preprocess(text):\n",
    "    text = text.lower()\n",
    "    text = re.sub(r'[^a-z\\s]', '', text)\n",
    "    return text.split()\n",
    "\n",
    "for doc in documents:\n",
    "    words = preprocess(doc[\"content\"])\n",
    "    docCls = doc[\"class\"]\n",
    "    for word in words:\n",
    "        vocab.add(word)\n",
    "        word_counts[docCls][word] += 1\n",
    "        total_words_per_class[docCls] += 1\n",
    "\n",
    "print('------')\n",
    "print(\"Word Counts per Class:\", word_counts)\n",
    "print('------')\n",
    "# Step 3: Calculate word probabilities with Laplace smoothing\n",
    "word_given_cls = defaultdict(lambda: defaultdict(float))\n",
    "alpha = 1\n",
    "v = len(vocab)\n",
    "\n",
    "for cls in word_counts:\n",
    "    for word in vocab:\n",
    "        # Calculate smoothed probability for each word given the class\n",
    "        word_given_cls[word][cls] = (word_counts[cls][word] + alpha) / (total_words_per_class[cls] + v)\n",
    "\n",
    "print('------')\n",
    "print(\"Word Given Class Probabilities:\", word_given_cls)\n",
    "print('------')\n",
    "\n",
    "# Step 4: Function to compute class probabilities for a given test document\n",
    "def compute_class(test):\n",
    "    words = preprocess(test)\n",
    "    both_cls = {}\n",
    "\n",
    "    for cls in priors:\n",
    "        # Start with the prior probability of the class\n",
    "        both_cls[cls] = priors[cls]\n",
    "        for word in words:\n",
    "            # Multiply by the word probability if it exists in the vocabulary\n",
    "            if word in vocab:\n",
    "                both_cls[cls] *= word_given_cls[word][cls]\n",
    "            else:\n",
    "                # Use the smoothed probability for unseen words\n",
    "                both_cls[cls] *= alpha / (total_words_per_class[cls] + v)\n",
    "    \n",
    "    print('------')\n",
    "    print(\"Class Probabilities:\", both_cls)\n",
    "    print('------')\n",
    "    return max(both_cls, key=both_cls.get)\n",
    "\n",
    "# Test the classifier\n",
    "test = \"Please buy GPU from our store\"\n",
    "predicted_class = compute_class(test)\n",
    "print(f\"Predicted Class: {predicted_class}\")\n"
   ]
  },
  {
   "cell_type": "code",
   "execution_count": 29,
   "metadata": {},
   "outputs": [
    {
     "name": "stdout",
     "output_type": "stream",
     "text": [
      "     Outlook Play\n",
      "0      Rainy  Yes\n",
      "1      Sunny  Yes\n",
      "2   Overcast  Yes\n",
      "3   Overcast  Yes\n",
      "4      Sunny   No\n",
      "5      Rainy  Yes\n",
      "6      Sunny  Yes\n",
      "7   Overcast  Yes\n",
      "8      Rainy   No\n",
      "9      Sunny   No\n",
      "10     Sunny  Yes\n",
      "11     Rainy   No\n",
      "12  Overcast  Yes\n",
      "13  Overcast  Yes\n"
     ]
    }
   ],
   "source": [
    "# one variable naive bayes\n",
    "import pandas as pd\n",
    "\n",
    "# Creating the DataFrame with the provided data\n",
    "data = {\n",
    "    'Outlook': ['Rainy', 'Sunny', 'Overcast', 'Overcast', 'Sunny', \n",
    "                'Rainy', 'Sunny', 'Overcast', 'Rainy', 'Sunny', \n",
    "                'Sunny', 'Rainy', 'Overcast', 'Overcast'],\n",
    "    'Play': ['Yes', 'Yes', 'Yes', 'Yes', 'No', \n",
    "             'Yes', 'Yes', 'Yes', 'No', 'No', \n",
    "             'Yes', 'No', 'Yes', 'Yes']\n",
    "}\n",
    "\n",
    "# Creating the DataFrame\n",
    "df = pd.DataFrame(data)\n",
    "\n",
    "# Display the DataFrame\n",
    "print(df)\n"
   ]
  },
  {
   "cell_type": "code",
   "execution_count": 32,
   "metadata": {},
   "outputs": [
    {
     "name": "stdout",
     "output_type": "stream",
     "text": [
      "0.7142857142857143 0.2857142857142857\n"
     ]
    }
   ],
   "source": [
    "#To classify ‘If the weather is sunny, then the Player should play or not’? \n",
    "# p_yes_sunny = p_sunny|yes * p_yes / ((p_sunny|yes * p_yes) + (p_sunny|no * p_no))\n",
    "\n",
    "n = df.shape[0]\n",
    "p_yes = len(df[df[\"Play\"] == \"Yes\"]) / n\n",
    "p_no = len(df[df[\"Play\"] == \"No\"]) / n\n",
    "\n",
    "print(p_yes, p_no)"
   ]
  },
  {
   "cell_type": "code",
   "execution_count": 36,
   "metadata": {},
   "outputs": [
    {
     "name": "stdout",
     "output_type": "stream",
     "text": [
      "0.3\n",
      "0.5\n"
     ]
    }
   ],
   "source": [
    "yes_df = df[df[\"Play\"] == \"Yes\"]\n",
    "p_sunny_yes = len(yes_df[yes_df[\"Outlook\"]=='Sunny']) / len(yes_df) \n",
    "\n",
    "no_df = df[df[\"Play\"] == \"No\"]\n",
    "p_sunny_no = len(no_df[no_df[\"Outlook\"]=='Sunny']) / len(no_df) \n",
    "\n",
    "print(p_sunny_yes)\n",
    "print(p_sunny_no)"
   ]
  },
  {
   "cell_type": "code",
   "execution_count": 37,
   "metadata": {},
   "outputs": [
    {
     "name": "stdout",
     "output_type": "stream",
     "text": [
      "0.6000000000000001\n",
      "0.4\n"
     ]
    }
   ],
   "source": [
    "p_yes_sunny = (p_sunny_yes * p_yes) / ((p_sunny_yes * p_yes) + (p_sunny_no * p_no))\n",
    "p_no_sunny = (p_sunny_no * p_no) / ((p_sunny_yes * p_yes) + (p_sunny_no * p_no))\n",
    "\n",
    "print(p_yes_sunny)\n",
    "print(p_no_sunny)\n"
   ]
  },
  {
   "cell_type": "code",
   "execution_count": null,
   "metadata": {},
   "outputs": [],
   "source": []
  },
  {
   "cell_type": "code",
   "execution_count": null,
   "metadata": {},
   "outputs": [],
   "source": []
  }
 ],
 "metadata": {
  "kernelspec": {
   "display_name": "Python 3",
   "language": "python",
   "name": "python3"
  },
  "language_info": {
   "codemirror_mode": {
    "name": "ipython",
    "version": 3
   },
   "file_extension": ".py",
   "mimetype": "text/x-python",
   "name": "python",
   "nbconvert_exporter": "python",
   "pygments_lexer": "ipython3",
   "version": "3.11.1"
  }
 },
 "nbformat": 4,
 "nbformat_minor": 2
}
