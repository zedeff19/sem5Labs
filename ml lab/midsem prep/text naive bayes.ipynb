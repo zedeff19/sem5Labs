{
 "cells": [
  {
   "cell_type": "code",
   "execution_count": null,
   "metadata": {},
   "outputs": [],
   "source": []
  },
  {
   "cell_type": "code",
   "execution_count": 1,
   "metadata": {},
   "outputs": [],
   "source": [
    "import re\n",
    "from collections import defaultdict\n",
    "\n",
    "# Sample data\n",
    "documents = [\n",
    "    {\"content\": \"Nvidia GPU is the best in the world.\", \"class\": \"computer graphics\"},\n",
    "    {\"content\": \"Nvidia is giving tough competition to AMD.\", \"class\": \"computer graphics\"},\n",
    "    {\"content\": \"We were running our application with GTX 1050 (High-end GPU) still it didn't work then we realized the problem was with the OS.\", \"class\": \"computer graphics\"},\n",
    "    {\"content\": \"GPU, Ganpat Pandey University, is located in Maharashtra.\", \"class\": \"not computer graphics\"},\n",
    "]\n",
    "\n",
    "test_document = \"Please buy GPU from our store.\""
   ]
  },
  {
   "cell_type": "code",
   "execution_count": 2,
   "metadata": {},
   "outputs": [
    {
     "name": "stdout",
     "output_type": "stream",
     "text": [
      "class: counts -  {'computer graphics': 3, 'not computer graphics': 1}\n",
      "priors:  {'computer graphics': 0.75, 'not computer graphics': 0.25}\n"
     ]
    }
   ],
   "source": [
    "def preprocess(text):\n",
    "    text = text.lower()\n",
    "    text = re.sub(r'[^a-z\\s]', '', text)\n",
    "    words = text.split()\n",
    "    return words\n",
    "\n",
    "class_counts = {}\n",
    "total_docs = len(documents)\n",
    "\n",
    "for doc in documents:\n",
    "    if doc['class'] not in class_counts:\n",
    "        class_counts[doc[\"class\"]] = 0\n",
    "    class_counts[doc[\"class\"]] += 1\n",
    "\n",
    "print(\"class: counts - \",class_counts)\n",
    "\n",
    "priors = {}\n",
    "for cls, clscnt in class_counts.items():\n",
    "    priors[cls] = clscnt/total_docs\n",
    "\n",
    "print('priors: ',priors)\n",
    "\n",
    "#now we have the prior probailty of each class\n",
    "\n"
   ]
  },
  {
   "cell_type": "code",
   "execution_count": 3,
   "metadata": {},
   "outputs": [
    {
     "name": "stdout",
     "output_type": "stream",
     "text": [
      "words count:  defaultdict(<function <lambda> at 0x000001F96B020B80>, {'computer graphics': defaultdict(<class 'int'>, {'nvidia': 2, 'gpu': 2, 'is': 2, 'the': 4, 'best': 1, 'in': 1, 'world': 1, 'giving': 1, 'tough': 1, 'competition': 1, 'to': 1, 'amd': 1, 'we': 2, 'were': 1, 'running': 1, 'our': 1, 'application': 1, 'with': 2, 'gtx': 1, 'highend': 1, 'still': 1, 'it': 1, 'didnt': 1, 'work': 1, 'then': 1, 'realized': 1, 'problem': 1, 'was': 1, 'os': 1}), 'not computer graphics': defaultdict(<class 'int'>, {'gpu': 1, 'ganpat': 1, 'pandey': 1, 'university': 1, 'is': 1, 'located': 1, 'in': 1, 'maharashtra': 1})})\n"
     ]
    }
   ],
   "source": [
    "word_counts = defaultdict(lambda: defaultdict(int))\n",
    "total_words_per_class = defaultdict(int) #INITIALIZES  NEW KEY WITH INT DATA TYPE FOR VALUE\n",
    "\n",
    "for doc in documents:\n",
    "    words = preprocess(doc[\"content\"])\n",
    "    cls = doc[\"class\"]\n",
    "\n",
    "    for word in words:\n",
    "        word_counts[cls][word]+=1\n",
    "        total_words_per_class[cls]+=1\n",
    "    \n",
    "print(\"words count: \", word_counts)\n",
    "\n",
    "likelihoods = defaultdict(lambda: defaultdict(float))\n",
    "vocab = set(word for cls in word_counts for word in word_counts[cls])\n",
    "vocab_size = len(vocab)\n",
    "alpha = 1\n",
    "\n",
    "for cls in word_counts:\n",
    "    for word in word_counts[cls]:\n",
    "        likelihoods[word][cls] = (word_counts[cls][word] + alpha) / (total_words_per_class[cls] + alpha * len(vocab))\n",
    "\n",
    "\n"
   ]
  },
  {
   "cell_type": "code",
   "execution_count": 4,
   "metadata": {},
   "outputs": [
    {
     "name": "stdout",
     "output_type": "stream",
     "text": [
      "Predicted class: computer graphics\n"
     ]
    }
   ],
   "source": [
    "def predict_class(test_doc):\n",
    "    words = preprocess(test_doc)\n",
    "    class_scores = {}\n",
    "\n",
    "    for cls in priors:\n",
    "        # Initialize score with the log of the prior probability\n",
    "        class_scores[cls] = priors[cls] # p (class | sentence) = p(sentence|class) * p(class)\n",
    "\n",
    "        # Multiply by likelihoods of each word in the test document\n",
    "        for word in words:\n",
    "            if word in vocab:\n",
    "                class_scores[cls] *= likelihoods[cls][word]\n",
    "            else:\n",
    "                continue\n",
    "                # Handle words not seen in training data with minimal impact\n",
    "                class_scores[cls] *= (1 / (total_words_per_class[cls] + alpha * vocab_size))\n",
    "\n",
    "    # Choose the class with the highest score\n",
    "    predicted_class = max(class_scores, key=class_scores.get)\n",
    "    return predicted_class\n",
    "\n",
    "\n",
    "predicted_class = predict_class(test_document)\n",
    "print(f\"Predicted class: {predicted_class}\")\n"
   ]
  }
 ],
 "metadata": {
  "kernelspec": {
   "display_name": "Python 3",
   "language": "python",
   "name": "python3"
  },
  "language_info": {
   "codemirror_mode": {
    "name": "ipython",
    "version": 3
   },
   "file_extension": ".py",
   "mimetype": "text/x-python",
   "name": "python",
   "nbconvert_exporter": "python",
   "pygments_lexer": "ipython3",
   "version": "3.11.1"
  }
 },
 "nbformat": 4,
 "nbformat_minor": 2
}
