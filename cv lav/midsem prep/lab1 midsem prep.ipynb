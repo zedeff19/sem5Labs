{
 "cells": [
  {
   "cell_type": "code",
   "execution_count": 27,
   "metadata": {},
   "outputs": [],
   "source": [
    "import cv2\n",
    "\n",
    "def show(img):\n",
    "    cv2.imshow(\"frame: \", img)\n",
    "    cv2.waitKey(1200)\n",
    "    cv2.destroyAllWindows()"
   ]
  },
  {
   "cell_type": "code",
   "execution_count": 28,
   "metadata": {},
   "outputs": [],
   "source": [
    "#reading showing resiszing\n",
    "\n",
    "img = cv2.imread('./images/input.png', 0)\n",
    "resized_image = cv2.resize(img, (100, 100))\n",
    "show(resized_image)"
   ]
  },
  {
   "cell_type": "code",
   "execution_count": 29,
   "metadata": {},
   "outputs": [],
   "source": [
    "# video\n",
    "\n",
    "# cap = cv2.VideoCapture('./images/20240526_A745763.MP4') #make a cap object\n",
    "\n",
    "# while(cap):\n",
    "#     ret, frame = cap.read() #read the cap obj as ret, frame\n",
    "\n",
    "#     if ret: # if ret == True\n",
    "#         cv2.imshow('video frame: ',frame)  #show the frame\n",
    "#         if cv2.wait(25) & 0xFF =='q':\n",
    "#             break\n",
    "#     else: #break\n",
    "#         break\n",
    "\n",
    "# cap.release()\n"
   ]
  },
  {
   "cell_type": "code",
   "execution_count": 30,
   "metadata": {},
   "outputs": [],
   "source": [
    "#drawing rectangle \n",
    "show(rect_img)\n",
    "rect_img = cv2.rectangle(img, (0,0), (10,10), color = (255,0,0))\n",
    "\n",
    "show(rect_img)"
   ]
  },
  {
   "cell_type": "code",
   "execution_count": 31,
   "metadata": {},
   "outputs": [],
   "source": [
    "(h, w) = img.shape[:2]\n",
    "center = (w // 2, h // 2)\n",
    "\n",
    "# Rotate the image by 45 degrees\n",
    "M = cv2.getRotationMatrix2D(center, 45, 1.0)\n",
    "rot = cv2.warpAffine(img, M, (w, h))\n",
    "\n",
    "# Show the rotated image\n",
    "show(rot)"
   ]
  },
  {
   "cell_type": "code",
   "execution_count": null,
   "metadata": {},
   "outputs": [],
   "source": []
  }
 ],
 "metadata": {
  "kernelspec": {
   "display_name": "Python 3",
   "language": "python",
   "name": "python3"
  },
  "language_info": {
   "codemirror_mode": {
    "name": "ipython",
    "version": 3
   },
   "file_extension": ".py",
   "mimetype": "text/x-python",
   "name": "python",
   "nbconvert_exporter": "python",
   "pygments_lexer": "ipython3",
   "version": "3.11.1"
  }
 },
 "nbformat": 4,
 "nbformat_minor": 2
}
